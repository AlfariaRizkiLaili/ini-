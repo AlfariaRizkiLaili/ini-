{
 "cells": [
  {
   "cell_type": "code",
   "execution_count": null,
   "metadata": {},
   "outputs": [],
   "source": [
    "from tensorflow import keras #manggil\n",
    "import tensorflow as tf \n",
    "#https://keras.io/examples/vision/mnist_convnet/\n",
    "width=224\n",
    "height=224\n",
    "depth=3\n",
    "inputShape = (height, width, depth)\n",
    "model = keras.Sequential( #defisini model menggunakan sequential (berurutan)\n",
    "    [\n",
    "        keras.Input(shape=inputShape),\n",
    "        tf.keras.layers.Conv2D(16, kernel_size=(3, 3), activation=\"relu\"),\n",
    "        tf.keras.layers.MaxPooling2D(pool_size=(2, 2)),\n",
    "        tf.keras.layers.Conv2D(32, kernel_size=(3, 3), activation=\"relu\"),\n",
    "        tf.keras.layers.MaxPooling2D(pool_size=(2, 2)),\n",
    "        tf.keras.layers.Conv2D(64, kernel_size=(3, 3), activation=\"relu\"),\n",
    "        tf.keras.layers.MaxPooling2D(pool_size=(2, 2)),\n",
    "        tf.keras.layers.Conv2D(128, kernel_size=(3, 3), activation=\"relu\"),\n",
    "        tf.keras.layers.MaxPooling2D(pool_size=(2, 2)),\n",
    "        tf.keras.layers.Flatten(),\n",
    "        tf.keras.layers.Dropout(0.5),\n",
    "        tf.keras.layers.Dense(7, activation=\"softmax\"), #banyak kelas -> output layer\n",
    "    ]\n",
    ")\n",
    "\n",
    "model.summary()\n",
    "\n",
    "model.compile(loss=\"categorical_crossentropy\", optimizer=\"adam\", metrics=[\"accuracy\"]) #lebih dr dua \n",
    "\n",
    "model.load_weights(\"model3kedua.h5\")"
   ]
  },
  {
   "cell_type": "code",
   "execution_count": 8,
   "metadata": {},
   "outputs": [],
   "source": [
    "#prediksi gambar berdasarkan folder"
   ]
  },
  {
   "cell_type": "code",
   "execution_count": 2,
   "metadata": {},
   "outputs": [
    {
     "name": "stdout",
     "output_type": "stream",
     "text": [
      "difolder :  C:/Users/Alfaria/SKRIPSI/hasil_augmen/testing/BukanBurungPemakanPadi/CekakakJawa/*.jpg\n",
      "terprediksi gambar\n"
     ]
    },
    {
     "name": "stderr",
     "output_type": "stream",
     "text": [
      "C:\\Users\\Alfaria\\anaconda3\\lib\\site-packages\\tensorflow\\python\\keras\\engine\\sequential.py:455: UserWarning: `model.predict_classes()` is deprecated and will be removed after 2021-01-01. Please use instead:* `np.argmax(model.predict(x), axis=-1)`,   if your model does multi-class classification   (e.g. if it uses a `softmax` last-layer activation).* `(model.predict(x) > 0.5).astype(\"int32\")`,   if your model does binary classification   (e.g. if it uses a `sigmoid` last-layer activation).\n",
      "  warnings.warn('`model.predict_classes()` is deprecated and '\n",
      "C:\\Users\\Alfaria\\anaconda3\\lib\\site-packages\\tensorflow\\python\\keras\\engine\\sequential.py:455: UserWarning: `model.predict_classes()` is deprecated and will be removed after 2021-01-01. Please use instead:* `np.argmax(model.predict(x), axis=-1)`,   if your model does multi-class classification   (e.g. if it uses a `softmax` last-layer activation).* `(model.predict(x) > 0.5).astype(\"int32\")`,   if your model does binary classification   (e.g. if it uses a `sigmoid` last-layer activation).\n",
      "  warnings.warn('`model.predict_classes()` is deprecated and '\n"
     ]
    },
    {
     "name": "stdout",
     "output_type": "stream",
     "text": [
      "jumlah CekakakJawa 199\n",
      "jumlah CiblekSawah 0\n",
      "jumlah Gagak 0\n",
      "jumlah Jalak 1\n",
      "jumlah KuntulKerbau 0\n",
      "jumlah Kutilang 0\n",
      "jumlah Tekukur 0\n",
      "difolder :  C:/Users/Alfaria/SKRIPSI/hasil_augmen/testing/BukanBurungPemakanPadi/KuntulKerbau/*.jpg\n",
      "terprediksi gambar\n",
      "jumlah CekakakJawa 0\n",
      "jumlah CiblekSawah 0\n",
      "jumlah Gagak 0\n",
      "jumlah Jalak 0\n",
      "jumlah KuntulKerbau 200\n",
      "jumlah Kutilang 0\n",
      "jumlah Tekukur 0\n",
      "difolder :  C:/Users/Alfaria/SKRIPSI/hasil_augmen/testing/BukanBurungPemakanPadi/CiblekSawah/*.jpg\n",
      "terprediksi gambar\n",
      "jumlah CekakakJawa 0\n",
      "jumlah CiblekSawah 198\n",
      "jumlah Gagak 0\n",
      "jumlah Jalak 0\n",
      "jumlah KuntulKerbau 2\n",
      "jumlah Kutilang 0\n",
      "jumlah Tekukur 0\n",
      "difolder :  C:/Users/Alfaria/SKRIPSI/hasil_augmen/testing/BukanBurungPemakanPadi/Gagak/*.jpg\n",
      "terprediksi gambar\n",
      "jumlah CekakakJawa 0\n",
      "jumlah CiblekSawah 0\n",
      "jumlah Gagak 199\n",
      "jumlah Jalak 1\n",
      "jumlah KuntulKerbau 0\n",
      "jumlah Kutilang 0\n",
      "jumlah Tekukur 0\n",
      "difolder :  C:/Users/Alfaria/SKRIPSI/hasil_augmen/testing/BukanBurungPemakanPadi/Jalak/*.jpg\n",
      "terprediksi gambar\n",
      "jumlah CekakakJawa 0\n",
      "jumlah CiblekSawah 0\n",
      "jumlah Gagak 3\n",
      "jumlah Jalak 194\n",
      "jumlah KuntulKerbau 3\n",
      "jumlah Kutilang 0\n",
      "jumlah Tekukur 0\n",
      "difolder :  C:/Users/Alfaria/SKRIPSI/hasil_augmen/testing/BukanBurungPemakanPadi/Kutilang/*.jpg\n",
      "terprediksi gambar\n",
      "jumlah CekakakJawa 0\n",
      "jumlah CiblekSawah 1\n",
      "jumlah Gagak 0\n",
      "jumlah Jalak 0\n",
      "jumlah KuntulKerbau 5\n",
      "jumlah Kutilang 193\n",
      "jumlah Tekukur 1\n",
      "difolder :  C:/Users/Alfaria/SKRIPSI/hasil_augmen/testing/BukanBurungPemakanPadi/Tekukur/*.jpg\n",
      "terprediksi gambar\n",
      "jumlah CekakakJawa 0\n",
      "jumlah CiblekSawah 1\n",
      "jumlah Gagak 0\n",
      "jumlah Jalak 0\n",
      "jumlah KuntulKerbau 8\n",
      "jumlah Kutilang 0\n",
      "jumlah Tekukur 191\n"
     ]
    }
   ],
   "source": [
    "import glob\n",
    "from keras.preprocessing import image\n",
    "from keras.preprocessing.image import load_img, img_to_array \n",
    "import numpy as np\n",
    "lists = ['C:/Users/Alfaria/SKRIPSI/hasil_augmen/testing/BukanBurungPemakanPadi/CekakakJawa/*.jpg', \n",
    "         'C:/Users/Alfaria/SKRIPSI/hasil_augmen/testing/BukanBurungPemakanPadi/KuntulKerbau/*.jpg',\n",
    "         'C:/Users/Alfaria/SKRIPSI/hasil_augmen/testing/BukanBurungPemakanPadi/CiblekSawah/*.jpg',\n",
    "         'C:/Users/Alfaria/SKRIPSI/hasil_augmen/testing/BukanBurungPemakanPadi/Gagak/*.jpg',\n",
    "         'C:/Users/Alfaria/SKRIPSI/hasil_augmen/testing/BukanBurungPemakanPadi/Jalak/*.jpg',\n",
    "         'C:/Users/Alfaria/SKRIPSI/hasil_augmen/testing/BukanBurungPemakanPadi/Kutilang/*.jpg',\n",
    "         'C:/Users/Alfaria/SKRIPSI/hasil_augmen/testing/BukanBurungPemakanPadi/Tekukur/*.jpg'\n",
    "      ]\n",
    "for j in range(len(lists)):\n",
    "    daftar_file = glob.glob(lists[j])\n",
    "    from keras.preprocessing.image import ImageDataGenerator\n",
    "    penyimpanan_CekakakJawa = 0\n",
    "    penyimpanan_CiblekSawah = 0\n",
    "    penyimpanan_Gagak = 0\n",
    "    penyimpanan_Jalak = 0\n",
    "    penyimpanan_KuntulKerbau = 0\n",
    "    penyimpanan_Kutilang = 0\n",
    "    penyimpanan_Tekukur = 0\n",
    "    print(\"difolder : \", lists[j])\n",
    "    print(\"terprediksi gambar\")\n",
    "    for i in daftar_file:\n",
    "        datagen = ImageDataGenerator(rescale = 1./255, shear_range = 0.2, zoom_range = 0.2, horizontal_flip = True)\n",
    "        test_image = image.load_img(i, target_size = (64, 64))\n",
    "        test_image = image.img_to_array(test_image).astype(int)\n",
    "        test_image = np.expand_dims(test_image, axis = 0)\n",
    "        test_image = datagen.flow(test_image)\n",
    "        result = model.predict_classes(test_image)\n",
    "        if (result==0):\n",
    "            #print(\"CekakakJawa\")\n",
    "            penyimpanan_CekakakJawa = penyimpanan_CekakakJawa+1\n",
    "        elif (result==1):\n",
    "            #print(\"CiblekSawah\")\n",
    "            penyimpanan_CiblekSawah = penyimpanan_CiblekSawah+1\n",
    "        elif (result==2):\n",
    "            #print(\"Gagak\")\n",
    "            penyimpanan_Gagak = penyimpanan_Gagak+1\n",
    "        elif (result==3):\n",
    "            #print(\"Jalak\")\n",
    "            penyimpanan_Jalak = penyimpanan_Jalak+1\n",
    "        elif (result==4):\n",
    "            #print(\"KuntulKerbau\")\n",
    "            penyimpanan_KuntulKerbau = penyimpanan_KuntulKerbau+1    \n",
    "        elif (result==5):\n",
    "            #print(\"Kutilang\")\n",
    "            penyimpanan_Kutilang = penyimpanan_Kutilang+1\n",
    "        elif (result==6):\n",
    "            #print(\"Tekukur\")\n",
    "            penyimpanan_Tekukur = penyimpanan_Tekukur+1\n",
    "            \n",
    "    print(\"jumlah CekakakJawa\",penyimpanan_CekakakJawa)\n",
    "    print(\"jumlah CiblekSawah\",penyimpanan_CiblekSawah)\n",
    "    print(\"jumlah Gagak\",penyimpanan_Gagak)\n",
    "    print(\"jumlah Jalak\",penyimpanan_Jalak)\n",
    "    print(\"jumlah KuntulKerbau\",penyimpanan_KuntulKerbau)\n",
    "    print(\"jumlah Kutilang\",penyimpanan_Kutilang)\n",
    "    print(\"jumlah Tekukur\",penyimpanan_Tekukur)"
   ]
  },
  {
   "cell_type": "code",
   "execution_count": 9,
   "metadata": {},
   "outputs": [],
   "source": [
    "#prediksi gambar pake tombol upload"
   ]
  },
  {
   "cell_type": "code",
   "execution_count": 3,
   "metadata": {},
   "outputs": [
    {
     "name": "stdout",
     "output_type": "stream",
     "text": [
      "('C:/Users/Alfaria/SKRIPSI/hasil_augmen/testing/BukanBurungPemakanPadi/Tekukur/Tekukur_original_tekukur14.jpg_8a8eff8d-df29-4ce4-9c38-ea37af713bc4.jpg',)\n"
     ]
    }
   ],
   "source": [
    "from ipywidgets import Button\n",
    "from tkinter import Tk, filedialog\n",
    "from IPython.display import clear_output, display\n",
    "\n",
    "def select_files(b):\n",
    "    clear_output()\n",
    "    root = Tk()\n",
    "    root.withdraw() # Hide the main window.\n",
    "    root.call('wm', 'attributes', '.', '-topmost', True) # Raise the root to the top of all windows.\n",
    "    b.files = filedialog.askopenfilename(multiple=True) # List of selected files will be set button's file attribute.\n",
    "    print(b.files) # Print the list of files selected.\n",
    "\n",
    "fileselect = Button(description=\"File select\")\n",
    "fileselect.on_click(select_files)\n",
    "display(fileselect)"
   ]
  },
  {
   "cell_type": "code",
   "execution_count": 4,
   "metadata": {},
   "outputs": [
    {
     "name": "stdout",
     "output_type": "stream",
     "text": [
      "===========\n",
      "Gambar ini :  C:/Users/Alfaria/SKRIPSI/hasil_augmen/testing/BukanBurungPemakanPadi/Tekukur/Tekukur_original_tekukur14.jpg_8a8eff8d-df29-4ce4-9c38-ea37af713bc4.jpg\n",
      "termasuk class =  Tekukur\n"
     ]
    }
   ],
   "source": [
    "#upload gambar dulu baru jalanin ini\n",
    "#doc : https://www.tensorflow.org/tutorials/images/classification\n",
    "import glob\n",
    "import numpy as np\n",
    "files = fileselect.files\n",
    "\n",
    "#doc : https://blog.keras.io/building-powerful-image-classification-models-using-very-little-data.html\n",
    "datagen = ImageDataGenerator(rescale = 1./255, shear_range = 0.2, zoom_range = 0.2, horizontal_flip = True)\n",
    "test_image = image.load_img(files[0], target_size = (64, 64))\n",
    "test_image = image.img_to_array(test_image)\n",
    "test_image = np.expand_dims(test_image, axis = 0)\n",
    "test_image = datagen.flow(test_image)\n",
    "result = model.predict_classes(test_image)\n",
    "class_names = ['CekakakJawa', 'CiblekSawah', 'Gagak', 'Jalak', 'KuntulKerbau', 'Kutilang', 'Tekukur']\n",
    "print(\"===========\")\n",
    "print(\"Gambar ini : \", files[0])\n",
    "print(\"termasuk class = \", class_names[result[0]])"
   ]
  },
  {
   "cell_type": "code",
   "execution_count": null,
   "metadata": {},
   "outputs": [],
   "source": []
  }
 ],
 "metadata": {
  "kernelspec": {
   "display_name": "Python 3",
   "language": "python",
   "name": "python3"
  },
  "language_info": {
   "codemirror_mode": {
    "name": "ipython",
    "version": 3
   },
   "file_extension": ".py",
   "mimetype": "text/x-python",
   "name": "python",
   "nbconvert_exporter": "python",
   "pygments_lexer": "ipython3",
   "version": "3.7.6"
  }
 },
 "nbformat": 4,
 "nbformat_minor": 5
}
