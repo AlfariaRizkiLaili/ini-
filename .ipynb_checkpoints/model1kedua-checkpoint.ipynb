{
 "cells": [
  {
   "cell_type": "code",
   "execution_count": null,
   "metadata": {
    "id": "n1u_26D6knny"
   },
   "outputs": [],
   "source": [
    "#model klasifikasi apakah burung tsb pemakakan padi atau bukan"
   ]
  },
  {
   "cell_type": "code",
   "execution_count": 1,
   "metadata": {
    "colab": {
     "base_uri": "https://localhost:8080/"
    },
    "executionInfo": {
     "elapsed": 2621,
     "status": "ok",
     "timestamp": 1627282213772,
     "user": {
      "displayName": "Alfaria Rizki",
      "photoUrl": "https://lh3.googleusercontent.com/a-/AOh14GjIFHXy3qPRPg5rcoOfbF4n2EhKJayBWLGKHU0MUA=s64",
      "userId": "04889227514116262933"
     },
     "user_tz": -420
    },
    "id": "SM6KJn_yk5oC",
    "outputId": "5ec152fb-5627-462f-c4a1-1a98c4323a99"
   },
   "outputs": [
    {
     "name": "stdout",
     "output_type": "stream",
     "text": [
      "WARNING:tensorflow:Please add `keras.layers.InputLayer` instead of `keras.Input` to Sequential model. `keras.Input` is intended to be used by Functional model.\n",
      "Model: \"sequential\"\n",
      "_________________________________________________________________\n",
      "Layer (type)                 Output Shape              Param #   \n",
      "=================================================================\n",
      "conv2d (Conv2D)              (None, 222, 222, 16)      448       \n",
      "_________________________________________________________________\n",
      "max_pooling2d (MaxPooling2D) (None, 111, 111, 16)      0         \n",
      "_________________________________________________________________\n",
      "conv2d_1 (Conv2D)            (None, 109, 109, 32)      4640      \n",
      "_________________________________________________________________\n",
      "max_pooling2d_1 (MaxPooling2 (None, 54, 54, 32)        0         \n",
      "_________________________________________________________________\n",
      "conv2d_2 (Conv2D)            (None, 52, 52, 64)        18496     \n",
      "_________________________________________________________________\n",
      "max_pooling2d_2 (MaxPooling2 (None, 26, 26, 64)        0         \n",
      "_________________________________________________________________\n",
      "conv2d_3 (Conv2D)            (None, 24, 24, 128)       73856     \n",
      "_________________________________________________________________\n",
      "max_pooling2d_3 (MaxPooling2 (None, 12, 12, 128)       0         \n",
      "_________________________________________________________________\n",
      "flatten (Flatten)            (None, 18432)             0         \n",
      "_________________________________________________________________\n",
      "dropout (Dropout)            (None, 18432)             0         \n",
      "_________________________________________________________________\n",
      "dense (Dense)                (None, 2)                 36866     \n",
      "=================================================================\n",
      "Total params: 134,306\n",
      "Trainable params: 134,306\n",
      "Non-trainable params: 0\n",
      "_________________________________________________________________\n"
     ]
    }
   ],
   "source": [
    "#import library\n",
    "from tensorflow import keras\n",
    "import tensorflow as tf \n",
    "#style penulisan keras : https://keras.io/examples/vision/mnist_convnet/\n",
    "width=224\n",
    "height=224\n",
    "depth=3\n",
    "inputShape = (height, width, depth)\n",
    "model = keras.Sequential(\n",
    "    [\n",
    "        keras.Input(shape=inputShape),\n",
    "        tf.keras.layers.Conv2D(16, kernel_size=(3, 3), activation=\"relu\"),\n",
    "        tf.keras.layers.MaxPooling2D(pool_size=(2, 2)),\n",
    "        tf.keras.layers.Conv2D(32, kernel_size=(3, 3), activation=\"relu\"),\n",
    "        tf.keras.layers.MaxPooling2D(pool_size=(2, 2)),\n",
    "        tf.keras.layers.Conv2D(64, kernel_size=(3, 3), activation=\"relu\"),\n",
    "        tf.keras.layers.MaxPooling2D(pool_size=(2, 2)),\n",
    "        tf.keras.layers.Conv2D(128, kernel_size=(3, 3), activation=\"relu\"),\n",
    "        tf.keras.layers.MaxPooling2D(pool_size=(2, 2)),\n",
    "        tf.keras.layers.Flatten(),\n",
    "        tf.keras.layers.Dropout(0.5),\n",
    "        tf.keras.layers.Dense(2, activation=\"softmax\"),\n",
    "    ]\n",
    ")\n",
    "\n",
    "model.summary()\n",
    "\n",
    "model.compile(loss=\"categorical_crossentropy\", optimizer=\"adam\", metrics=[\"accuracy\"])"
   ]
  },
  {
   "cell_type": "code",
   "execution_count": 2,
   "metadata": {
    "colab": {
     "base_uri": "https://localhost:8080/"
    },
    "executionInfo": {
     "elapsed": 21123,
     "status": "ok",
     "timestamp": 1627282311798,
     "user": {
      "displayName": "Alfaria Rizki",
      "photoUrl": "https://lh3.googleusercontent.com/a-/AOh14GjIFHXy3qPRPg5rcoOfbF4n2EhKJayBWLGKHU0MUA=s64",
      "userId": "04889227514116262933"
     },
     "user_tz": -420
    },
    "id": "obw0GWIklBUM",
    "outputId": "c9f9b59f-60ba-4a52-9085-e545ab778c58"
   },
   "outputs": [
    {
     "name": "stdout",
     "output_type": "stream",
     "text": [
      "Found 11200 images belonging to 2 classes.\n",
      "Found 2800 images belonging to 2 classes.\n"
     ]
    }
   ],
   "source": [
    "from keras.preprocessing.image import ImageDataGenerator\n",
    "#prameter augmentasi : https://blog.keras.io/building-powerful-image-classification-models-using-very-little-data.html\n",
    "train_datagen = ImageDataGenerator(rescale = 1./255, shear_range = 0.2, zoom_range = 0.2, horizontal_flip = True)\n",
    "test_datagen = ImageDataGenerator(rescale = 1./255, shear_range = 0.2, zoom_range = 0.2, horizontal_flip = True)\n",
    "                                   \n",
    "training_set = train_datagen.flow_from_directory('/content/drive/MyDrive/hasil_augmen/training',target_size = (224, 224),class_mode=\"categorical\")\n",
    "test_set = test_datagen.flow_from_directory('/content/drive/MyDrive/hasil_augmen/testing',target_size = (224, 224),class_mode=\"categorical\")"
   ]
  },
  {
   "cell_type": "code",
   "execution_count": 3,
   "metadata": {
    "colab": {
     "base_uri": "https://localhost:8080/"
    },
    "executionInfo": {
     "elapsed": 557,
     "status": "ok",
     "timestamp": 1627282325146,
     "user": {
      "displayName": "Alfaria Rizki",
      "photoUrl": "https://lh3.googleusercontent.com/a-/AOh14GjIFHXy3qPRPg5rcoOfbF4n2EhKJayBWLGKHU0MUA=s64",
      "userId": "04889227514116262933"
     },
     "user_tz": -420
    },
    "id": "upset-telephone",
    "outputId": "6d8906ee-ec33-48f6-dda3-e19bf5946f6b"
   },
   "outputs": [
    {
     "name": "stdout",
     "output_type": "stream",
     "text": [
      "{0: 'BukanBurungPemakanPadi', 1: 'BurungPemakanPadi'}\n"
     ]
    }
   ],
   "source": [
    "#cek nama class\n",
    "def switch_dict_key_values(this_dict):\n",
    "    return dict((v,k)for k,v in this_dict.items())\n",
    "\n",
    "training_set_names=switch_dict_key_values(training_set.class_indices)\n",
    "print(training_set_names)"
   ]
  },
  {
   "cell_type": "code",
   "execution_count": 4,
   "metadata": {
    "colab": {
     "base_uri": "https://localhost:8080/"
    },
    "executionInfo": {
     "elapsed": 3873201,
     "status": "ok",
     "timestamp": 1627297143574,
     "user": {
      "displayName": "Alfaria Rizki",
      "photoUrl": "https://lh3.googleusercontent.com/a-/AOh14GjIFHXy3qPRPg5rcoOfbF4n2EhKJayBWLGKHU0MUA=s64",
      "userId": "04889227514116262933"
     },
     "user_tz": -420
    },
    "id": "u8RClJbylcTJ",
    "outputId": "a7b85879-1fc8-4660-816c-9b28aac53cac"
   },
   "outputs": [
    {
     "name": "stderr",
     "output_type": "stream",
     "text": [
      "/usr/local/lib/python3.7/dist-packages/tensorflow/python/keras/engine/training.py:1940: UserWarning: `Model.fit_generator` is deprecated and will be removed in a future version. Please use `Model.fit`, which supports generators.\n",
      "  warnings.warn('`Model.fit_generator` is deprecated and '\n"
     ]
    },
    {
     "name": "stdout",
     "output_type": "stream",
     "text": [
      "Epoch 1/10\n",
      "350/350 [==============================] - 7194s 21s/step - loss: 0.5061 - accuracy: 0.7252 - val_loss: 0.3872 - val_accuracy: 0.8429\n",
      "Epoch 2/10\n",
      "350/350 [==============================] - 817s 2s/step - loss: 0.2759 - accuracy: 0.8872 - val_loss: 0.1935 - val_accuracy: 0.9275\n",
      "Epoch 3/10\n",
      "350/350 [==============================] - 822s 2s/step - loss: 0.1564 - accuracy: 0.9408 - val_loss: 0.0853 - val_accuracy: 0.9721\n",
      "Epoch 4/10\n",
      "350/350 [==============================] - 826s 2s/step - loss: 0.1127 - accuracy: 0.9634 - val_loss: 0.0556 - val_accuracy: 0.9846\n",
      "Epoch 5/10\n",
      "350/350 [==============================] - 825s 2s/step - loss: 0.0749 - accuracy: 0.9743 - val_loss: 0.0364 - val_accuracy: 0.9900\n",
      "Epoch 6/10\n",
      "350/350 [==============================] - 821s 2s/step - loss: 0.0511 - accuracy: 0.9833 - val_loss: 0.0886 - val_accuracy: 0.9675\n",
      "Epoch 7/10\n",
      "350/350 [==============================] - 824s 2s/step - loss: 0.0470 - accuracy: 0.9837 - val_loss: 0.0207 - val_accuracy: 0.9936\n",
      "Epoch 8/10\n",
      "350/350 [==============================] - 819s 2s/step - loss: 0.0552 - accuracy: 0.9804 - val_loss: 0.0239 - val_accuracy: 0.9957\n",
      "Epoch 9/10\n",
      "350/350 [==============================] - 817s 2s/step - loss: 0.0337 - accuracy: 0.9909 - val_loss: 0.0188 - val_accuracy: 0.9954\n",
      "Epoch 10/10\n",
      "350/350 [==============================] - 818s 2s/step - loss: 0.0220 - accuracy: 0.9927 - val_loss: 0.0141 - val_accuracy: 0.9946\n"
     ]
    }
   ],
   "source": [
    "# proses fitting\n",
    "epoch = 25\n",
    "history = model.fit_generator(training_set,\n",
    "epochs = epoch,\n",
    "validation_data = test_set\n",
    ")"
   ]
  },
  {
   "cell_type": "code",
   "execution_count": 5,
   "metadata": {
    "executionInfo": {
     "elapsed": 476,
     "status": "ok",
     "timestamp": 1627297356139,
     "user": {
      "displayName": "Alfaria Rizki",
      "photoUrl": "https://lh3.googleusercontent.com/a-/AOh14GjIFHXy3qPRPg5rcoOfbF4n2EhKJayBWLGKHU0MUA=s64",
      "userId": "04889227514116262933"
     },
     "user_tz": -420
    },
    "id": "ww-zJonfllcF"
   },
   "outputs": [],
   "source": [
    "#menyimpan model\n",
    "model.save_weights(\"model1kedua.h5\")"
   ]
  },
  {
   "cell_type": "code",
   "execution_count": 6,
   "metadata": {
    "colab": {
     "base_uri": "https://localhost:8080/",
     "height": 498
    },
    "executionInfo": {
     "elapsed": 1472,
     "status": "ok",
     "timestamp": 1627297364639,
     "user": {
      "displayName": "Alfaria Rizki",
      "photoUrl": "https://lh3.googleusercontent.com/a-/AOh14GjIFHXy3qPRPg5rcoOfbF4n2EhKJayBWLGKHU0MUA=s64",
      "userId": "04889227514116262933"
     },
     "user_tz": -420
    },
    "id": "h7X4CT_uln10",
    "outputId": "28be1cf4-df25-44ac-c94f-560d300041bc"
   },
   "outputs": [
    {
     "data": {
      "image/png": "[encoded data removed]",
      "text/plain": [
       "<Figure size 576x576 with 2 Axes>"
      ]
     },
     "metadata": {
      "needs_background": "light",
      "tags": []
     },
     "output_type": "display_data"
    }
   ],
   "source": [
    "#ploting hasil acc dan loss\n",
    "import matplotlib.pyplot as plt\n",
    "acc = history.history['accuracy']\n",
    "val_acc = history.history['val_accuracy']\n",
    "\n",
    "loss = history.history['loss']\n",
    "val_loss = history.history['val_loss']\n",
    "\n",
    "epochs_range = range(epoch)\n",
    "\n",
    "plt.figure(figsize=(8, 8))\n",
    "plt.subplot(1, 2, 1)\n",
    "plt.plot(epochs_range, acc, label='Training Accuracy')\n",
    "plt.plot(epochs_range, val_acc, label='Validation Accuracy')\n",
    "plt.legend(loc='lower right')\n",
    "plt.title('Training and Validation Accuracy')\n",
    "\n",
    "plt.subplot(1, 2, 2)\n",
    "plt.plot(epochs_range, loss, label='Training Loss')\n",
    "plt.plot(epochs_range, val_loss, label='Validation Loss')\n",
    "plt.legend(loc='upper right')\n",
    "plt.title('Training and Validation Loss')\n",
    "plt.show()"
   ]
  }
 ],
 "metadata": {
  "colab": {
   "authorship_tag": "ABX9TyP44uLA/mmQf7NrxJAZjq/V",
   "mount_file_id": "1eg2PtzHfjzAc48QYLik1bqiSLJzOIkx_",
   "name": "model1kedua.ipynb",
   "provenance": []
  },
  "kernelspec": {
   "display_name": "Python 3",
   "language": "python",
   "name": "python3"
  },
  "language_info": {
   "codemirror_mode": {
    "name": "ipython",
    "version": 3
   },
   "file_extension": ".py",
   "mimetype": "text/x-python",
   "name": "python",
   "nbconvert_exporter": "python",
   "pygments_lexer": "ipython3",
   "version": "3.7.6"
  }
 },
 "nbformat": 4,
 "nbformat_minor": 1
}
