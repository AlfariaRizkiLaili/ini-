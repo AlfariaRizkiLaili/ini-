{
 "cells": [
  {
   "cell_type": "code",
   "execution_count": 2,
   "metadata": {
    "colab": {
     "base_uri": "https://localhost:8080/"
    },
    "executionInfo": {
     "elapsed": 350,
     "status": "ok",
     "timestamp": 1627297585230,
     "user": {
      "displayName": "Alfaria Rizki",
      "photoUrl": "https://lh3.googleusercontent.com/a-/AOh14GjIFHXy3qPRPg5rcoOfbF4n2EhKJayBWLGKHU0MUA=s64",
      "userId": "04889227514116262933"
     },
     "user_tz": -420
    },
    "id": "pRZq9_Gje_9R",
    "outputId": "8a032194-5d68-4aaf-ca81-b7182f5fcaaa"
   },
   "outputs": [
    {
     "name": "stdout",
     "output_type": "stream",
     "text": [
      "WARNING:tensorflow:Please add `keras.layers.InputLayer` instead of `keras.Input` to Sequential model. `keras.Input` is intended to be used by Functional model.\n",
      "Model: \"sequential_1\"\n",
      "_________________________________________________________________\n",
      "Layer (type)                 Output Shape              Param #   \n",
      "=================================================================\n",
      "conv2d_4 (Conv2D)            (None, 222, 222, 16)      448       \n",
      "_________________________________________________________________\n",
      "max_pooling2d_4 (MaxPooling2 (None, 111, 111, 16)      0         \n",
      "_________________________________________________________________\n",
      "conv2d_5 (Conv2D)            (None, 109, 109, 32)      4640      \n",
      "_________________________________________________________________\n",
      "max_pooling2d_5 (MaxPooling2 (None, 54, 54, 32)        0         \n",
      "_________________________________________________________________\n",
      "conv2d_6 (Conv2D)            (None, 52, 52, 64)        18496     \n",
      "_________________________________________________________________\n",
      "max_pooling2d_6 (MaxPooling2 (None, 26, 26, 64)        0         \n",
      "_________________________________________________________________\n",
      "conv2d_7 (Conv2D)            (None, 24, 24, 128)       73856     \n",
      "_________________________________________________________________\n",
      "max_pooling2d_7 (MaxPooling2 (None, 12, 12, 128)       0         \n",
      "_________________________________________________________________\n",
      "flatten_1 (Flatten)          (None, 18432)             0         \n",
      "_________________________________________________________________\n",
      "dropout_1 (Dropout)          (None, 18432)             0         \n",
      "_________________________________________________________________\n",
      "dense_1 (Dense)              (None, 7)                 129031    \n",
      "=================================================================\n",
      "Total params: 226,471\n",
      "Trainable params: 226,471\n",
      "Non-trainable params: 0\n",
      "_________________________________________________________________\n"
     ]
    }
   ],
   "source": [
    "#import library\n",
    "from tensorflow import keras\n",
    "import tensorflow as tf \n",
    "#style penulisan keras : https://keras.io/examples/vision/mnist_convnet/\n",
    "width=224\n",
    "height=224\n",
    "depth=3\n",
    "inputShape = (height, width, depth)\n",
    "model = keras.Sequential(\n",
    "    [\n",
    "        keras.Input(shape=inputShape),\n",
    "        tf.keras.layers.Conv2D(16, kernel_size=(3, 3), activation=\"relu\"),\n",
    "        tf.keras.layers.MaxPooling2D(pool_size=(2, 2)),\n",
    "        tf.keras.layers.Conv2D(32, kernel_size=(3, 3), activation=\"relu\"),\n",
    "        tf.keras.layers.MaxPooling2D(pool_size=(2, 2)),\n",
    "        tf.keras.layers.Conv2D(64, kernel_size=(3, 3), activation=\"relu\"),\n",
    "        tf.keras.layers.MaxPooling2D(pool_size=(2, 2)),\n",
    "        tf.keras.layers.Conv2D(128, kernel_size=(3, 3), activation=\"relu\"),\n",
    "        tf.keras.layers.MaxPooling2D(pool_size=(2, 2)),\n",
    "        tf.keras.layers.Flatten(),\n",
    "        tf.keras.layers.Dropout(0.5),\n",
    "        tf.keras.layers.Dense(7, activation=\"softmax\"),\n",
    "    ]\n",
    ")\n",
    "\n",
    "model.summary()\n",
    "\n",
    "model.compile(loss=\"categorical_crossentropy\", optimizer=\"adam\", metrics=[\"accuracy\"])"
   ]
  },
  {
   "cell_type": "code",
   "execution_count": 3,
   "metadata": {
    "colab": {
     "base_uri": "https://localhost:8080/"
    },
    "executionInfo": {
     "elapsed": 11260,
     "status": "ok",
     "timestamp": 1627297604265,
     "user": {
      "displayName": "Alfaria Rizki",
      "photoUrl": "https://lh3.googleusercontent.com/a-/AOh14GjIFHXy3qPRPg5rcoOfbF4n2EhKJayBWLGKHU0MUA=s64",
      "userId": "04889227514116262933"
     },
     "user_tz": -420
    },
    "id": "TunjNoFgfVMr",
    "outputId": "46697899-71cb-4a9f-cddc-8e7646d5d010"
   },
   "outputs": [
    {
     "name": "stdout",
     "output_type": "stream",
     "text": [
      "Found 5600 images belonging to 7 classes.\n",
      "Found 1400 images belonging to 7 classes.\n"
     ]
    }
   ],
   "source": [
    "from keras.preprocessing.image import ImageDataGenerator\n",
    "#prameter augmentasi : https://blog.keras.io/building-powerful-image-classification-models-using-very-little-data.html\n",
    "train_datagen = ImageDataGenerator(rescale = 1./255, shear_range = 0.2, zoom_range = 0.2, horizontal_flip = True)\n",
    "test_datagen = ImageDataGenerator(rescale = 1./255, shear_range = 0.2, zoom_range = 0.2, horizontal_flip = True)\n",
    "                                   \n",
    "training_set = train_datagen.flow_from_directory('/content/drive/MyDrive/hasil_augmen/training/BurungPemakanPadi',target_size = (224, 224),class_mode=\"categorical\")\n",
    "test_set = test_datagen.flow_from_directory('/content/drive/MyDrive/hasil_augmen/testing/BurungPemakanPadi',target_size = (224, 224),class_mode=\"categorical\")"
   ]
  },
  {
   "cell_type": "code",
   "execution_count": 4,
   "metadata": {
    "colab": {
     "base_uri": "https://localhost:8080/"
    },
    "executionInfo": {
     "elapsed": 337,
     "status": "ok",
     "timestamp": 1627297607878,
     "user": {
      "displayName": "Alfaria Rizki",
      "photoUrl": "https://lh3.googleusercontent.com/a-/AOh14GjIFHXy3qPRPg5rcoOfbF4n2EhKJayBWLGKHU0MUA=s64",
      "userId": "04889227514116262933"
     },
     "user_tz": -420
    },
    "id": "5Uxg4a0YfruQ",
    "outputId": "c106508a-85a1-4125-ee11-9355c872a74a"
   },
   "outputs": [
    {
     "name": "stdout",
     "output_type": "stream",
     "text": [
      "{0: 'BondolCoklat', 1: 'BondolHaji', 2: 'BondolJawa', 3: 'BondolPeking', 4: 'GelatikJawa', 5: 'Gereja', 6: 'Manyar'}\n"
     ]
    }
   ],
   "source": [
    "#cek nama class\n",
    "def switch_dict_key_values(this_dict):\n",
    "    return dict((v,k)for k,v in this_dict.items())\n",
    "\n",
    "training_set_names=switch_dict_key_values(training_set.class_indices)\n",
    "print(training_set_names)"
   ]
  },
  {
   "cell_type": "code",
   "execution_count": 5,
   "metadata": {
    "colab": {
     "base_uri": "https://localhost:8080/"
    },
    "executionInfo": {
     "elapsed": 5365791,
     "status": "ok",
     "timestamp": 1627302986872,
     "user": {
      "displayName": "Alfaria Rizki",
      "photoUrl": "https://lh3.googleusercontent.com/a-/AOh14GjIFHXy3qPRPg5rcoOfbF4n2EhKJayBWLGKHU0MUA=s64",
      "userId": "04889227514116262933"
     },
     "user_tz": -420
    },
    "id": "Ihjc9xXgfvLd",
    "outputId": "7ced940c-b2b5-4e43-8b73-bb6f3ef619f0"
   },
   "outputs": [
    {
     "name": "stderr",
     "output_type": "stream",
     "text": [
      "/usr/local/lib/python3.7/dist-packages/tensorflow/python/keras/engine/training.py:1940: UserWarning: `Model.fit_generator` is deprecated and will be removed in a future version. Please use `Model.fit`, which supports generators.\n",
      "  warnings.warn('`Model.fit_generator` is deprecated and '\n"
     ]
    },
    {
     "name": "stdout",
     "output_type": "stream",
     "text": [
      "Epoch 1/10\n",
      "175/175 [==============================] - 1987s 11s/step - loss: 1.1828 - accuracy: 0.5566 - val_loss: 0.5730 - val_accuracy: 0.7979\n",
      "Epoch 2/10\n",
      "175/175 [==============================] - 367s 2s/step - loss: 0.4880 - accuracy: 0.8377 - val_loss: 0.3811 - val_accuracy: 0.8693\n",
      "Epoch 3/10\n",
      "175/175 [==============================] - 365s 2s/step - loss: 0.2131 - accuracy: 0.9311 - val_loss: 0.1307 - val_accuracy: 0.9614\n",
      "Epoch 4/10\n",
      "175/175 [==============================] - 365s 2s/step - loss: 0.1060 - accuracy: 0.9654 - val_loss: 0.0693 - val_accuracy: 0.9736\n",
      "Epoch 5/10\n",
      "175/175 [==============================] - 364s 2s/step - loss: 0.0711 - accuracy: 0.9786 - val_loss: 0.0449 - val_accuracy: 0.9850\n",
      "Epoch 6/10\n",
      "175/175 [==============================] - 364s 2s/step - loss: 0.0735 - accuracy: 0.9746 - val_loss: 0.0528 - val_accuracy: 0.9843\n",
      "Epoch 7/10\n",
      "175/175 [==============================] - 364s 2s/step - loss: 0.0501 - accuracy: 0.9845 - val_loss: 0.0195 - val_accuracy: 0.9936\n",
      "Epoch 8/10\n",
      "175/175 [==============================] - 365s 2s/step - loss: 0.0353 - accuracy: 0.9893 - val_loss: 0.0246 - val_accuracy: 0.9921\n",
      "Epoch 9/10\n",
      "175/175 [==============================] - 364s 2s/step - loss: 0.0331 - accuracy: 0.9911 - val_loss: 0.0295 - val_accuracy: 0.9900\n",
      "Epoch 10/10\n",
      "175/175 [==============================] - 364s 2s/step - loss: 0.0242 - accuracy: 0.9923 - val_loss: 0.0087 - val_accuracy: 0.9964\n"
     ]
    }
   ],
   "source": [
    "# proses fitting / training \n",
    "epoch = 10\n",
    "history = model.fit_generator(training_set,\n",
    "epochs = epoch,\n",
    "validation_data = test_set\n",
    ")"
   ]
  },
  {
   "cell_type": "code",
   "execution_count": 6,
   "metadata": {
    "executionInfo": {
     "elapsed": 348,
     "status": "ok",
     "timestamp": 1627303009907,
     "user": {
      "displayName": "Alfaria Rizki",
      "photoUrl": "https://lh3.googleusercontent.com/a-/AOh14GjIFHXy3qPRPg5rcoOfbF4n2EhKJayBWLGKHU0MUA=s64",
      "userId": "04889227514116262933"
     },
     "user_tz": -420
    },
    "id": "MzNu3fw6fzRv"
   },
   "outputs": [],
   "source": [
    "#menyimpan model\n",
    "model.save_weights(\"model2sepuluh.h5\")"
   ]
  },
  {
   "cell_type": "code",
   "execution_count": 7,
   "metadata": {
    "colab": {
     "base_uri": "https://localhost:8080/",
     "height": 498
    },
    "executionInfo": {
     "elapsed": 626,
     "status": "ok",
     "timestamp": 1627303014441,
     "user": {
      "displayName": "Alfaria Rizki",
      "photoUrl": "https://lh3.googleusercontent.com/a-/AOh14GjIFHXy3qPRPg5rcoOfbF4n2EhKJayBWLGKHU0MUA=s64",
      "userId": "04889227514116262933"
     },
     "user_tz": -420
    },
    "id": "ScYUAVTbf1YB",
    "outputId": "c8c07b03-5344-4672-8b35-b44affcb37a6"
   },
   "outputs": [
    {
     "data": {
      "image/png": "[encoded data removed]",
      "text/plain": [
       "<Figure size 576x576 with 2 Axes>"
      ]
     },
     "metadata": {
      "needs_background": "light",
      "tags": []
     },
     "output_type": "display_data"
    }
   ],
   "source": [
    "#ploting hasil acc dan loss\n",
    "import matplotlib.pyplot as plt\n",
    "acc = history.history['accuracy']\n",
    "val_acc = history.history['val_accuracy']\n",
    "\n",
    "loss = history.history['loss']\n",
    "val_loss = history.history['val_loss']\n",
    "\n",
    "epochs_range = range(epoch)\n",
    "\n",
    "plt.figure(figsize=(8, 8))\n",
    "plt.subplot(1, 2, 1)\n",
    "plt.plot(epochs_range, acc, label='Training Accuracy')\n",
    "plt.plot(epochs_range, val_acc, label='Validation Accuracy')\n",
    "plt.legend(loc='lower right')\n",
    "plt.title('Training and Validation Accuracy')\n",
    "\n",
    "plt.subplot(1, 2, 2)\n",
    "plt.plot(epochs_range, loss, label='Training Loss')\n",
    "plt.plot(epochs_range, val_loss, label='Validation Loss')\n",
    "plt.legend(loc='upper right')\n",
    "plt.title('Training and Validation Loss')\n",
    "plt.show()"
   ]
  }
 ],
 "metadata": {
  "colab": {
   "authorship_tag": "ABX9TyPc1mLZX1n7Kp0xLN2kKLPd",
   "mount_file_id": "1ElI-iA3TqsuaRgkGZnPSCFi2Qn6hsusP",
   "name": "model2kedua.ipynb",
   "provenance": []
  },
  "kernelspec": {
   "display_name": "Python 3",
   "language": "python",
   "name": "python3"
  },
  "language_info": {
   "codemirror_mode": {
    "name": "ipython",
    "version": 3
   },
   "file_extension": ".py",
   "mimetype": "text/x-python",
   "name": "python",
   "nbconvert_exporter": "python",
   "pygments_lexer": "ipython3",
   "version": "3.7.6"
  }
 },
 "nbformat": 4,
 "nbformat_minor": 1
}
