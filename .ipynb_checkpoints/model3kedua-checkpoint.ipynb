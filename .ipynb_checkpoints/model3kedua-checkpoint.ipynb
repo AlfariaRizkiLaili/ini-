{
 "cells": [
  {
   "cell_type": "code",
   "execution_count": 1,
   "metadata": {
    "colab": {
     "base_uri": "https://localhost:8080/"
    },
    "executionInfo": {
     "elapsed": 2564,
     "status": "ok",
     "timestamp": 1627303162755,
     "user": {
      "displayName": "Alfaria Rizki",
      "photoUrl": "https://lh3.googleusercontent.com/a-/AOh14GjIFHXy3qPRPg5rcoOfbF4n2EhKJayBWLGKHU0MUA=s64",
      "userId": "04889227514116262933"
     },
     "user_tz": -420
    },
    "id": "skIn5vNu0l8d",
    "outputId": "30954977-bcc3-467b-9fa0-5584d0854abd"
   },
   "outputs": [
    {
     "name": "stdout",
     "output_type": "stream",
     "text": [
      "WARNING:tensorflow:Please add `keras.layers.InputLayer` instead of `keras.Input` to Sequential model. `keras.Input` is intended to be used by Functional model.\n",
      "Model: \"sequential\"\n",
      "_________________________________________________________________\n",
      "Layer (type)                 Output Shape              Param #   \n",
      "=================================================================\n",
      "conv2d (Conv2D)              (None, 222, 222, 16)      448       \n",
      "_________________________________________________________________\n",
      "max_pooling2d (MaxPooling2D) (None, 111, 111, 16)      0         \n",
      "_________________________________________________________________\n",
      "conv2d_1 (Conv2D)            (None, 109, 109, 32)      4640      \n",
      "_________________________________________________________________\n",
      "max_pooling2d_1 (MaxPooling2 (None, 54, 54, 32)        0         \n",
      "_________________________________________________________________\n",
      "conv2d_2 (Conv2D)            (None, 52, 52, 64)        18496     \n",
      "_________________________________________________________________\n",
      "max_pooling2d_2 (MaxPooling2 (None, 26, 26, 64)        0         \n",
      "_________________________________________________________________\n",
      "conv2d_3 (Conv2D)            (None, 24, 24, 128)       73856     \n",
      "_________________________________________________________________\n",
      "max_pooling2d_3 (MaxPooling2 (None, 12, 12, 128)       0         \n",
      "_________________________________________________________________\n",
      "flatten (Flatten)            (None, 18432)             0         \n",
      "_________________________________________________________________\n",
      "dropout (Dropout)            (None, 18432)             0         \n",
      "_________________________________________________________________\n",
      "dense (Dense)                (None, 7)                 129031    \n",
      "=================================================================\n",
      "Total params: 226,471\n",
      "Trainable params: 226,471\n",
      "Non-trainable params: 0\n",
      "_________________________________________________________________\n"
     ]
    }
   ],
   "source": [
    "#import library\n",
    "from tensorflow import keras\n",
    "import tensorflow as tf \n",
    "#style penulisan keras : https://keras.io/examples/vision/mnist_convnet/\n",
    "width=224\n",
    "height=224\n",
    "depth=3\n",
    "inputShape = (height, width, depth)\n",
    "model = keras.Sequential(\n",
    "    [\n",
    "        keras.Input(shape=inputShape),\n",
    "        tf.keras.layers.Conv2D(16, kernel_size=(3, 3), activation=\"relu\"),\n",
    "        tf.keras.layers.MaxPooling2D(pool_size=(2, 2)),\n",
    "        tf.keras.layers.Conv2D(32, kernel_size=(3, 3), activation=\"relu\"),\n",
    "        tf.keras.layers.MaxPooling2D(pool_size=(2, 2)),\n",
    "        tf.keras.layers.Conv2D(64, kernel_size=(3, 3), activation=\"relu\"),\n",
    "        tf.keras.layers.MaxPooling2D(pool_size=(2, 2)),\n",
    "        tf.keras.layers.Conv2D(128, kernel_size=(3, 3), activation=\"relu\"),\n",
    "        tf.keras.layers.MaxPooling2D(pool_size=(2, 2)),\n",
    "        tf.keras.layers.Flatten(),\n",
    "        tf.keras.layers.Dropout(0.5),\n",
    "        tf.keras.layers.Dense(7, activation=\"softmax\"),\n",
    "    ]\n",
    ")\n",
    "\n",
    "model.summary()\n",
    "\n",
    "model.compile(loss=\"categorical_crossentropy\", optimizer=\"adam\", metrics=[\"accuracy\"])"
   ]
  },
  {
   "cell_type": "code",
   "execution_count": 2,
   "metadata": {
    "colab": {
     "base_uri": "https://localhost:8080/"
    },
    "executionInfo": {
     "elapsed": 12828,
     "status": "ok",
     "timestamp": 1627303259610,
     "user": {
      "displayName": "Alfaria Rizki",
      "photoUrl": "https://lh3.googleusercontent.com/a-/AOh14GjIFHXy3qPRPg5rcoOfbF4n2EhKJayBWLGKHU0MUA=s64",
      "userId": "04889227514116262933"
     },
     "user_tz": -420
    },
    "id": "K2lOPzRP1FJi",
    "outputId": "50ba84d3-7ce7-4b42-b2a3-1aa6725d9fc1"
   },
   "outputs": [
    {
     "name": "stdout",
     "output_type": "stream",
     "text": [
      "Found 5600 images belonging to 7 classes.\n",
      "Found 1400 images belonging to 7 classes.\n"
     ]
    }
   ],
   "source": [
    "from keras.preprocessing.image import ImageDataGenerator\n",
    "#prameter augmentasi : https://blog.keras.io/building-powerful-image-classification-models-using-very-little-data.html\n",
    "train_datagen = ImageDataGenerator(rescale = 1./255, shear_range = 0.2, zoom_range = 0.2, horizontal_flip = True)\n",
    "test_datagen = ImageDataGenerator(rescale = 1./255, shear_range = 0.2, zoom_range = 0.2, horizontal_flip = True)\n",
    "                                   \n",
    "training_set = train_datagen.flow_from_directory('/content/drive/MyDrive/hasil_augmen/training/BukanBurungPemakanPadi',target_size = (224, 224),class_mode=\"categorical\")\n",
    "test_set = test_datagen.flow_from_directory('/content/drive/MyDrive/hasil_augmen/testing/BukanBurungPemakanPadi',target_size = (224, 224),class_mode=\"categorical\")"
   ]
  },
  {
   "cell_type": "code",
   "execution_count": 3,
   "metadata": {
    "colab": {
     "base_uri": "https://localhost:8080/"
    },
    "executionInfo": {
     "elapsed": 469,
     "status": "ok",
     "timestamp": 1627303276406,
     "user": {
      "displayName": "Alfaria Rizki",
      "photoUrl": "https://lh3.googleusercontent.com/a-/AOh14GjIFHXy3qPRPg5rcoOfbF4n2EhKJayBWLGKHU0MUA=s64",
      "userId": "04889227514116262933"
     },
     "user_tz": -420
    },
    "id": "yyIHjq-D1TSP",
    "outputId": "bc5bd451-fcf0-4618-af9b-08fb85a26b86"
   },
   "outputs": [
    {
     "name": "stdout",
     "output_type": "stream",
     "text": [
      "{0: 'CekakakJawa', 1: 'CiblekSawah', 2: 'Gagak', 3: 'Jalak', 4: 'KuntulKerbau', 5: 'Kutilang', 6: 'Tekukur'}\n"
     ]
    }
   ],
   "source": [
    "#cek nama class\n",
    "def switch_dict_key_values(this_dict):\n",
    "    return dict((v,k)for k,v in this_dict.items())\n",
    "\n",
    "training_set_names=switch_dict_key_values(training_set.class_indices)\n",
    "print(training_set_names)"
   ]
  },
  {
   "cell_type": "code",
   "execution_count": 4,
   "metadata": {
    "colab": {
     "base_uri": "https://localhost:8080/"
    },
    "executionInfo": {
     "elapsed": 7254653,
     "status": "ok",
     "timestamp": 1627310562022,
     "user": {
      "displayName": "Alfaria Rizki",
      "photoUrl": "https://lh3.googleusercontent.com/a-/AOh14GjIFHXy3qPRPg5rcoOfbF4n2EhKJayBWLGKHU0MUA=s64",
      "userId": "04889227514116262933"
     },
     "user_tz": -420
    },
    "id": "oI3ycTv91Xbm",
    "outputId": "298c1fe4-f92e-41f6-bd8c-692741c766b6"
   },
   "outputs": [
    {
     "name": "stderr",
     "output_type": "stream",
     "text": [
      "/usr/local/lib/python3.7/dist-packages/tensorflow/python/keras/engine/training.py:1940: UserWarning: `Model.fit_generator` is deprecated and will be removed in a future version. Please use `Model.fit`, which supports generators.\n",
      "  warnings.warn('`Model.fit_generator` is deprecated and '\n"
     ]
    },
    {
     "name": "stdout",
     "output_type": "stream",
     "text": [
      "Epoch 1/10\n",
      "175/175 [==============================] - 3392s 19s/step - loss: 1.0724 - accuracy: 0.5966 - val_loss: 0.5775 - val_accuracy: 0.7864\n",
      "Epoch 2/10\n",
      "175/175 [==============================] - 420s 2s/step - loss: 0.4554 - accuracy: 0.8409 - val_loss: 0.2068 - val_accuracy: 0.9321\n",
      "Epoch 3/10\n",
      "175/175 [==============================] - 410s 2s/step - loss: 0.2219 - accuracy: 0.9250 - val_loss: 0.1283 - val_accuracy: 0.9643\n",
      "Epoch 4/10\n",
      "175/175 [==============================] - 410s 2s/step - loss: 0.1460 - accuracy: 0.9543 - val_loss: 0.0849 - val_accuracy: 0.9721\n",
      "Epoch 5/10\n",
      "175/175 [==============================] - 412s 2s/step - loss: 0.1015 - accuracy: 0.9691 - val_loss: 0.0482 - val_accuracy: 0.9900\n",
      "Epoch 6/10\n",
      "175/175 [==============================] - 410s 2s/step - loss: 0.0885 - accuracy: 0.9695 - val_loss: 0.0645 - val_accuracy: 0.9793\n",
      "Epoch 7/10\n",
      "175/175 [==============================] - 409s 2s/step - loss: 0.0709 - accuracy: 0.9759 - val_loss: 0.0399 - val_accuracy: 0.9871\n",
      "Epoch 8/10\n",
      "175/175 [==============================] - 407s 2s/step - loss: 0.0486 - accuracy: 0.9854 - val_loss: 0.0342 - val_accuracy: 0.9907\n",
      "Epoch 9/10\n",
      "175/175 [==============================] - 410s 2s/step - loss: 0.0373 - accuracy: 0.9866 - val_loss: 0.0269 - val_accuracy: 0.9936\n",
      "Epoch 10/10\n",
      "175/175 [==============================] - 408s 2s/step - loss: 0.0496 - accuracy: 0.9830 - val_loss: 0.0484 - val_accuracy: 0.9836\n"
     ]
    }
   ],
   "source": [
    "# proses fitting \n",
    "epoch = 10\n",
    "history = model.fit_generator(training_set,\n",
    "epochs = epoch,\n",
    "validation_data = test_set\n",
    ")"
   ]
  },
  {
   "cell_type": "code",
   "execution_count": 5,
   "metadata": {
    "executionInfo": {
     "elapsed": 495,
     "status": "ok",
     "timestamp": 1627310686012,
     "user": {
      "displayName": "Alfaria Rizki",
      "photoUrl": "https://lh3.googleusercontent.com/a-/AOh14GjIFHXy3qPRPg5rcoOfbF4n2EhKJayBWLGKHU0MUA=s64",
      "userId": "04889227514116262933"
     },
     "user_tz": -420
    },
    "id": "Li053ccm14SD"
   },
   "outputs": [],
   "source": [
    "model.save_weights(\"model3kedua.h5\")"
   ]
  },
  {
   "cell_type": "code",
   "execution_count": 6,
   "metadata": {
    "colab": {
     "base_uri": "https://localhost:8080/"
    },
    "executionInfo": {
     "elapsed": 1085,
     "status": "ok",
     "timestamp": 1627310695798,
     "user": {
      "displayName": "Alfaria Rizki",
      "photoUrl": "https://lh3.googleusercontent.com/a-/AOh14GjIFHXy3qPRPg5rcoOfbF4n2EhKJayBWLGKHU0MUA=s64",
      "userId": "04889227514116262933"
     },
     "user_tz": -420
    },
    "id": "RZCbAJj-18nH",
    "outputId": "93af3262-2235-4e57-f013-cda01fbdbe52"
   },
   "outputs": [
    {
     "data": {
      "image/png": "[encoded data removed]",
      "text/plain": [
       "<Figure size 576x576 with 2 Axes>"
      ]
     },
     "metadata": {
      "needs_background": "light",
      "tags": []
     },
     "output_type": "display_data"
    }
   ],
   "source": [
    "#ploting hasil acc dan loss\n",
    "import matplotlib.pyplot as plt\n",
    "acc = history.history['accuracy']\n",
    "val_acc = history.history['val_accuracy']\n",
    "\n",
    "loss = history.history['loss']\n",
    "val_loss = history.history['val_loss']\n",
    "\n",
    "epochs_range = range(epoch)\n",
    "\n",
    "plt.figure(figsize=(8, 8))\n",
    "plt.subplot(1, 2, 1)\n",
    "plt.plot(epochs_range, acc, label='Training Accuracy')\n",
    "plt.plot(epochs_range, val_acc, label='Validation Accuracy')\n",
    "plt.legend(loc='lower right')\n",
    "plt.title('Training and Validation Accuracy')\n",
    "\n",
    "plt.subplot(1, 2, 2)\n",
    "plt.plot(epochs_range, loss, label='Training Loss')\n",
    "plt.plot(epochs_range, val_loss, label='Validation Loss')\n",
    "plt.legend(loc='upper right')\n",
    "plt.title('Training and Validation Loss')\n",
    "plt.show()"
   ]
  }
 ],
 "metadata": {
  "colab": {
   "authorship_tag": "ABX9TyMxUWri5zGTfxcBhNH1cLgw",
   "mount_file_id": "1vx5zHCjZ_Nu4UMdibdxBuah_Yne4yDqa",
   "name": "model3kedua.ipynb",
   "provenance": []
  },
  "kernelspec": {
   "display_name": "Python 3",
   "language": "python",
   "name": "python3"
  },
  "language_info": {
   "codemirror_mode": {
    "name": "ipython",
    "version": 3
   },
   "file_extension": ".py",
   "mimetype": "text/x-python",
   "name": "python",
   "nbconvert_exporter": "python",
   "pygments_lexer": "ipython3",
   "version": "3.7.6"
  }
 },
 "nbformat": 4,
 "nbformat_minor": 1
}
