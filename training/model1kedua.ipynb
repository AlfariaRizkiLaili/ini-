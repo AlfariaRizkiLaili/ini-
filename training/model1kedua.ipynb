{
 "cells": [
  {
   "cell_type": "code",
   "execution_count": null,
   "metadata": {
    "id": "n1u_26D6knny"
   },
   "outputs": [],
   "source": [
    "#model klasifikasi apakah burung tsb pemakakan padi atau bukan"
   ]
  },
  {
   "cell_type": "code",
   "execution_count": 1,
   "metadata": {
    "colab": {
     "base_uri": "https://localhost:8080/"
    },
    "executionInfo": {
     "elapsed": 2621,
     "status": "ok",
     "timestamp": 1627282213772,
     "user": {
      "displayName": "Alfaria Rizki",
      "photoUrl": "https://lh3.googleusercontent.com/a-/AOh14GjIFHXy3qPRPg5rcoOfbF4n2EhKJayBWLGKHU0MUA=s64",
      "userId": "04889227514116262933"
     },
     "user_tz": -420
    },
    "id": "SM6KJn_yk5oC",
    "outputId": "5ec152fb-5627-462f-c4a1-1a98c4323a99"
   },
   "outputs": [
    {
     "name": "stdout",
     "output_type": "stream",
     "text": [
      "WARNING:tensorflow:Please add `keras.layers.InputLayer` instead of `keras.Input` to Sequential model. `keras.Input` is intended to be used by Functional model.\n",
      "Model: \"sequential\"\n",
      "_________________________________________________________________\n",
      "Layer (type)                 Output Shape              Param #   \n",
      "=================================================================\n",
      "conv2d (Conv2D)              (None, 222, 222, 16)      448       \n",
      "_________________________________________________________________\n",
      "max_pooling2d (MaxPooling2D) (None, 111, 111, 16)      0         \n",
      "_________________________________________________________________\n",
      "conv2d_1 (Conv2D)            (None, 109, 109, 32)      4640      \n",
      "_________________________________________________________________\n",
      "max_pooling2d_1 (MaxPooling2 (None, 54, 54, 32)        0         \n",
      "_________________________________________________________________\n",
      "conv2d_2 (Conv2D)            (None, 52, 52, 64)        18496     \n",
      "_________________________________________________________________\n",
      "max_pooling2d_2 (MaxPooling2 (None, 26, 26, 64)        0         \n",
      "_________________________________________________________________\n",
      "conv2d_3 (Conv2D)            (None, 24, 24, 128)       73856     \n",
      "_________________________________________________________________\n",
      "max_pooling2d_3 (MaxPooling2 (None, 12, 12, 128)       0         \n",
      "_________________________________________________________________\n",
      "flatten (Flatten)            (None, 18432)             0         \n",
      "_________________________________________________________________\n",
      "dropout (Dropout)            (None, 18432)             0         \n",
      "_________________________________________________________________\n",
      "dense (Dense)                (None, 2)                 36866     \n",
      "=================================================================\n",
      "Total params: 134,306\n",
      "Trainable params: 134,306\n",
      "Non-trainable params: 0\n",
      "_________________________________________________________________\n"
     ]
    }
   ],
   "source": [
    "#import library\n",
    "from tensorflow import keras\n",
    "import tensorflow as tf \n",
    "#style penulisan keras : https://keras.io/examples/vision/mnist_convnet/\n",
    "width=224\n",
    "height=224\n",
    "depth=3\n",
    "inputShape = (height, width, depth)\n",
    "model = keras.Sequential(\n",
    "    [\n",
    "        keras.Input(shape=inputShape),\n",
    "        tf.keras.layers.Conv2D(16, kernel_size=(3, 3), activation=\"relu\"),\n",
    "        tf.keras.layers.MaxPooling2D(pool_size=(2, 2)),\n",
    "        tf.keras.layers.Conv2D(32, kernel_size=(3, 3), activation=\"relu\"),\n",
    "        tf.keras.layers.MaxPooling2D(pool_size=(2, 2)),\n",
    "        tf.keras.layers.Conv2D(64, kernel_size=(3, 3), activation=\"relu\"),\n",
    "        tf.keras.layers.MaxPooling2D(pool_size=(2, 2)),\n",
    "        tf.keras.layers.Conv2D(128, kernel_size=(3, 3), activation=\"relu\"),\n",
    "        tf.keras.layers.MaxPooling2D(pool_size=(2, 2)),\n",
    "        tf.keras.layers.Flatten(),\n",
    "        tf.keras.layers.Dropout(0.5),\n",
    "        tf.keras.layers.Dense(2, activation=\"softmax\"),\n",
    "    ]\n",
    ")\n",
    "\n",
    "model.summary()\n",
    "\n",
    "model.compile(loss=\"categorical_crossentropy\", optimizer=\"adam\", metrics=[\"accuracy\"])"
   ]
  },
  {
   "cell_type": "code",
   "execution_count": 2,
   "metadata": {
    "colab": {
     "base_uri": "https://localhost:8080/"
    },
    "executionInfo": {
     "elapsed": 21123,
     "status": "ok",
     "timestamp": 1627282311798,
     "user": {
      "displayName": "Alfaria Rizki",
      "photoUrl": "https://lh3.googleusercontent.com/a-/AOh14GjIFHXy3qPRPg5rcoOfbF4n2EhKJayBWLGKHU0MUA=s64",
      "userId": "04889227514116262933"
     },
     "user_tz": -420
    },
    "id": "obw0GWIklBUM",
    "outputId": "c9f9b59f-60ba-4a52-9085-e545ab778c58"
   },
   "outputs": [
    {
     "name": "stdout",
     "output_type": "stream",
     "text": [
      "Found 11200 images belonging to 2 classes.\n",
      "Found 2800 images belonging to 2 classes.\n"
     ]
    }
   ],
   "source": [
    "from keras.preprocessing.image import ImageDataGenerator\n",
    "#prameter augmentasi : https://blog.keras.io/building-powerful-image-classification-models-using-very-little-data.html\n",
    "train_datagen = ImageDataGenerator(rescale = 1./255, shear_range = 0.2, zoom_range = 0.2, horizontal_flip = True)\n",
    "test_datagen = ImageDataGenerator(rescale = 1./255, shear_range = 0.2, zoom_range = 0.2, horizontal_flip = True)\n",
    "                                   \n",
    "training_set = train_datagen.flow_from_directory('C:/Users/Alfaria/SKRIPSI/hasil_augmen/training',target_size = (224, 224),class_mode=\"categorical\")\n",
    "test_set = test_datagen.flow_from_directory('C:/Users/Alfaria/SKRIPSI/hasil_augmen/testing',target_size = (224, 224),class_mode=\"categorical\")"
   ]
  },
  {
   "cell_type": "code",
   "execution_count": 3,
   "metadata": {
    "colab": {
     "base_uri": "https://localhost:8080/"
    },
    "executionInfo": {
     "elapsed": 557,
     "status": "ok",
     "timestamp": 1627282325146,
     "user": {
      "displayName": "Alfaria Rizki",
      "photoUrl": "https://lh3.googleusercontent.com/a-/AOh14GjIFHXy3qPRPg5rcoOfbF4n2EhKJayBWLGKHU0MUA=s64",
      "userId": "04889227514116262933"
     },
     "user_tz": -420
    },
    "id": "upset-telephone",
    "outputId": "6d8906ee-ec33-48f6-dda3-e19bf5946f6b"
   },
   "outputs": [
    {
     "name": "stdout",
     "output_type": "stream",
     "text": [
      "{0: 'BukanBurungPemakanPadi', 1: 'BurungPemakanPadi'}\n"
     ]
    }
   ],
   "source": [
    "#cek nama class\n",
    "def switch_dict_key_values(this_dict):\n",
    "    return dict((v,k)for k,v in this_dict.items())\n",
    "\n",
    "training_set_names=switch_dict_key_values(training_set.class_indices)\n",
    "print(training_set_names)"
   ]
  },
  {
   "cell_type": "code",
   "execution_count": 4,
   "metadata": {
    "colab": {
     "base_uri": "https://localhost:8080/"
    },
    "executionInfo": {
     "elapsed": 3873201,
     "status": "ok",
     "timestamp": 1627297143574,
     "user": {
      "displayName": "Alfaria Rizki",
      "photoUrl": "https://lh3.googleusercontent.com/a-/AOh14GjIFHXy3qPRPg5rcoOfbF4n2EhKJayBWLGKHU0MUA=s64",
      "userId": "04889227514116262933"
     },
     "user_tz": -420
    },
    "id": "u8RClJbylcTJ",
    "outputId": "a7b85879-1fc8-4660-816c-9b28aac53cac"
   },
   "outputs": [
    {
     "name": "stderr",
     "output_type": "stream",
     "text": [
      "C:\\Users\\Alfaria\\anaconda3\\lib\\site-packages\\tensorflow\\python\\keras\\engine\\training.py:1940: UserWarning: `Model.fit_generator` is deprecated and will be removed in a future version. Please use `Model.fit`, which supports generators.\n",
      "  warnings.warn('`Model.fit_generator` is deprecated and '\n"
     ]
    },
    {
     "name": "stdout",
     "output_type": "stream",
     "text": [
      "Epoch 1/50\n",
      "350/350 [==============================] - 1537s 4s/step - loss: 0.4557 - accuracy: 0.7754 - val_loss: 0.3157 - val_accuracy: 0.8657\n",
      "Epoch 2/50\n",
      "350/350 [==============================] - 1383s 4s/step - loss: 0.2575 - accuracy: 0.8930 - val_loss: 0.1405 - val_accuracy: 0.9511\n",
      "Epoch 3/50\n",
      "350/350 [==============================] - 1929s 6s/step - loss: 0.1276 - accuracy: 0.9532 - val_loss: 0.1667 - val_accuracy: 0.9421\n",
      "Epoch 4/50\n",
      "350/350 [==============================] - 2510s 7s/step - loss: 0.0933 - accuracy: 0.9679 - val_loss: 0.0341 - val_accuracy: 0.9879\n",
      "Epoch 5/50\n",
      "350/350 [==============================] - 1728s 5s/step - loss: 0.0589 - accuracy: 0.9796 - val_loss: 0.1395 - val_accuracy: 0.9539\n",
      "Epoch 6/50\n",
      "350/350 [==============================] - 1452s 4s/step - loss: 0.0424 - accuracy: 0.9862 - val_loss: 0.0373 - val_accuracy: 0.9914\n",
      "Epoch 7/50\n",
      "350/350 [==============================] - 1395s 4s/step - loss: 0.0305 - accuracy: 0.9908 - val_loss: 0.0339 - val_accuracy: 0.9907\n",
      "Epoch 8/50\n",
      "350/350 [==============================] - 1396s 4s/step - loss: 0.0325 - accuracy: 0.9915 - val_loss: 0.0128 - val_accuracy: 0.9964\n",
      "Epoch 9/50\n",
      "350/350 [==============================] - 1376s 4s/step - loss: 0.0481 - accuracy: 0.9846 - val_loss: 0.0275 - val_accuracy: 0.9939\n",
      "Epoch 10/50\n",
      "350/350 [==============================] - 1368s 4s/step - loss: 0.0193 - accuracy: 0.9931 - val_loss: 0.0232 - val_accuracy: 0.9929\n",
      "Epoch 11/50\n",
      "350/350 [==============================] - 1373s 4s/step - loss: 0.0435 - accuracy: 0.9850 - val_loss: 0.0214 - val_accuracy: 0.9939\n",
      "Epoch 12/50\n",
      "350/350 [==============================] - 1377s 4s/step - loss: 0.0209 - accuracy: 0.9932 - val_loss: 0.0075 - val_accuracy: 0.9971\n",
      "Epoch 13/50\n",
      "350/350 [==============================] - 1373s 4s/step - loss: 0.0275 - accuracy: 0.9915 - val_loss: 0.0308 - val_accuracy: 0.9900\n",
      "Epoch 14/50\n",
      "350/350 [==============================] - 1366s 4s/step - loss: 0.0204 - accuracy: 0.9941 - val_loss: 0.0133 - val_accuracy: 0.9961\n",
      "Epoch 15/50\n",
      "350/350 [==============================] - 1369s 4s/step - loss: 0.0306 - accuracy: 0.9902 - val_loss: 0.0153 - val_accuracy: 0.9950\n",
      "Epoch 16/50\n",
      "350/350 [==============================] - 1375s 4s/step - loss: 0.0104 - accuracy: 0.9969 - val_loss: 0.0101 - val_accuracy: 0.9975\n",
      "Epoch 17/50\n",
      "350/350 [==============================] - 1375s 4s/step - loss: 0.0209 - accuracy: 0.9943 - val_loss: 0.0113 - val_accuracy: 0.9964\n",
      "Epoch 18/50\n",
      "350/350 [==============================] - 1397s 4s/step - loss: 0.0439 - accuracy: 0.9873 - val_loss: 0.0114 - val_accuracy: 0.9957\n",
      "Epoch 19/50\n",
      "350/350 [==============================] - 1377s 4s/step - loss: 0.0117 - accuracy: 0.9961 - val_loss: 0.0271 - val_accuracy: 0.9896\n",
      "Epoch 20/50\n",
      "350/350 [==============================] - 1535s 4s/step - loss: 0.0215 - accuracy: 0.9928 - val_loss: 0.0072 - val_accuracy: 0.9986\n",
      "Epoch 21/50\n",
      "350/350 [==============================] - 1521s 4s/step - loss: 0.0153 - accuracy: 0.9950 - val_loss: 0.0058 - val_accuracy: 0.9989\n",
      "Epoch 22/50\n",
      "350/350 [==============================] - 1372s 4s/step - loss: 0.0152 - accuracy: 0.9959 - val_loss: 0.0589 - val_accuracy: 0.9832\n",
      "Epoch 23/50\n",
      "350/350 [==============================] - 1362s 4s/step - loss: 0.0323 - accuracy: 0.9913 - val_loss: 0.0041 - val_accuracy: 0.9982\n",
      "Epoch 24/50\n",
      "350/350 [==============================] - 1357s 4s/step - loss: 0.0085 - accuracy: 0.9970 - val_loss: 0.0034 - val_accuracy: 0.9986\n",
      "Epoch 25/50\n",
      "350/350 [==============================] - 1359s 4s/step - loss: 0.0341 - accuracy: 0.9905 - val_loss: 0.0084 - val_accuracy: 0.9975\n",
      "Epoch 26/50\n",
      "350/350 [==============================] - 1341s 4s/step - loss: 0.0217 - accuracy: 0.9942 - val_loss: 0.0092 - val_accuracy: 0.9961\n",
      "Epoch 27/50\n",
      "350/350 [==============================] - 1355s 4s/step - loss: 0.0108 - accuracy: 0.9969 - val_loss: 0.0039 - val_accuracy: 0.9986\n",
      "Epoch 28/50\n",
      "350/350 [==============================] - 1364s 4s/step - loss: 0.0125 - accuracy: 0.9962 - val_loss: 6.2373e-04 - val_accuracy: 1.0000\n",
      "Epoch 29/50\n",
      "350/350 [==============================] - 1359s 4s/step - loss: 0.0041 - accuracy: 0.9986 - val_loss: 0.0132 - val_accuracy: 0.9961\n",
      "Epoch 30/50\n",
      "350/350 [==============================] - 1364s 4s/step - loss: 0.0013 - accuracy: 0.9995 - val_loss: 0.0022 - val_accuracy: 0.9996\n",
      "Epoch 31/50\n",
      "350/350 [==============================] - 1432s 4s/step - loss: 0.0613 - accuracy: 0.9852 - val_loss: 0.0189 - val_accuracy: 0.9946\n",
      "Epoch 32/50\n",
      "350/350 [==============================] - 1425s 4s/step - loss: 0.0323 - accuracy: 0.9910 - val_loss: 0.0109 - val_accuracy: 0.9971\n",
      "Epoch 33/50\n",
      "350/350 [==============================] - 1402s 4s/step - loss: 0.0121 - accuracy: 0.9964 - val_loss: 0.0063 - val_accuracy: 0.9979\n",
      "Epoch 34/50\n",
      "350/350 [==============================] - 1430s 4s/step - loss: 0.0265 - accuracy: 0.9930 - val_loss: 0.0290 - val_accuracy: 0.9946\n",
      "Epoch 35/50\n",
      "350/350 [==============================] - 1450s 4s/step - loss: 0.0116 - accuracy: 0.9965 - val_loss: 0.0014 - val_accuracy: 0.9996\n",
      "Epoch 36/50\n",
      "350/350 [==============================] - 1457s 4s/step - loss: 0.0050 - accuracy: 0.9984 - val_loss: 2.5481e-04 - val_accuracy: 1.0000\n",
      "Epoch 37/50\n",
      "350/350 [==============================] - 1542s 4s/step - loss: 0.0071 - accuracy: 0.9973 - val_loss: 0.0030 - val_accuracy: 0.9993\n",
      "Epoch 38/50\n",
      "350/350 [==============================] - 1441s 4s/step - loss: 0.0201 - accuracy: 0.9949 - val_loss: 0.0302 - val_accuracy: 0.9936\n",
      "Epoch 39/50\n",
      "350/350 [==============================] - 1643s 5s/step - loss: 0.0206 - accuracy: 0.9944 - val_loss: 0.0061 - val_accuracy: 0.9986\n",
      "Epoch 40/50\n",
      "350/350 [==============================] - 1687s 5s/step - loss: 0.0142 - accuracy: 0.9962 - val_loss: 0.0086 - val_accuracy: 0.9986\n",
      "Epoch 41/50\n",
      "350/350 [==============================] - 1415s 4s/step - loss: 0.0173 - accuracy: 0.9954 - val_loss: 0.0466 - val_accuracy: 0.9864\n",
      "Epoch 42/50\n",
      "350/350 [==============================] - 1557s 4s/step - loss: 0.0173 - accuracy: 0.9948 - val_loss: 4.5308e-04 - val_accuracy: 1.0000\n",
      "Epoch 43/50\n",
      "350/350 [==============================] - 1380s 4s/step - loss: 0.0102 - accuracy: 0.9979 - val_loss: 0.0035 - val_accuracy: 0.9986\n",
      "Epoch 44/50\n",
      "350/350 [==============================] - 1469s 4s/step - loss: 0.0098 - accuracy: 0.9971 - val_loss: 0.0017 - val_accuracy: 0.9996\n",
      "Epoch 45/50\n",
      "350/350 [==============================] - 1384s 4s/step - loss: 0.0307 - accuracy: 0.9942 - val_loss: 0.0027 - val_accuracy: 0.9993\n",
      "Epoch 46/50\n",
      "350/350 [==============================] - 1368s 4s/step - loss: 0.0158 - accuracy: 0.9957 - val_loss: 0.0049 - val_accuracy: 0.9982\n",
      "Epoch 47/50\n",
      "350/350 [==============================] - 1456s 4s/step - loss: 0.0135 - accuracy: 0.9962 - val_loss: 0.0421 - val_accuracy: 0.9957\n",
      "Epoch 48/50\n",
      "350/350 [==============================] - 1454s 4s/step - loss: 0.0082 - accuracy: 0.9978 - val_loss: 0.0115 - val_accuracy: 0.9982\n",
      "Epoch 49/50\n",
      "350/350 [==============================] - 1378s 4s/step - loss: 0.0196 - accuracy: 0.9952 - val_loss: 0.0074 - val_accuracy: 0.9982\n",
      "Epoch 50/50\n",
      "350/350 [==============================] - 1370s 4s/step - loss: 0.0183 - accuracy: 0.9955 - val_loss: 0.0028 - val_accuracy: 0.9993\n"
     ]
    }
   ],
   "source": [
    "# proses fitting\n",
    "epoch = 50\n",
    "history = model.fit_generator(training_set,\n",
    "epochs = epoch,\n",
    "validation_data = test_set\n",
    ")"
   ]
  },
  {
   "cell_type": "code",
   "execution_count": 5,
   "metadata": {
    "executionInfo": {
     "elapsed": 476,
     "status": "ok",
     "timestamp": 1627297356139,
     "user": {
      "displayName": "Alfaria Rizki",
      "photoUrl": "https://lh3.googleusercontent.com/a-/AOh14GjIFHXy3qPRPg5rcoOfbF4n2EhKJayBWLGKHU0MUA=s64",
      "userId": "04889227514116262933"
     },
     "user_tz": -420
    },
    "id": "ww-zJonfllcF"
   },
   "outputs": [],
   "source": [
    "#menyimpan model\n",
    "model.save_weights(\"model1kedua.h5\")"
   ]
  },
  {
   "cell_type": "code",
   "execution_count": 6,
   "metadata": {
    "colab": {
     "base_uri": "https://localhost:8080/",
     "height": 498
    },
    "executionInfo": {
     "elapsed": 1472,
     "status": "ok",
     "timestamp": 1627297364639,
     "user": {
      "displayName": "Alfaria Rizki",
      "photoUrl": "https://lh3.googleusercontent.com/a-/AOh14GjIFHXy3qPRPg5rcoOfbF4n2EhKJayBWLGKHU0MUA=s64",
      "userId": "04889227514116262933"
     },
     "user_tz": -420
    },
    "id": "h7X4CT_uln10",
    "outputId": "28be1cf4-df25-44ac-c94f-560d300041bc"
   },
   "outputs": [
    {
     "data": {
      "image/png": "[encoded data removed]",
      "text/plain": [
       "<Figure size 576x576 with 2 Axes>"
      ]
     },
     "metadata": {
      "needs_background": "light"
     },
     "output_type": "display_data"
    }
   ],
   "source": [
    "#ploting hasil acc dan loss\n",
    "import matplotlib.pyplot as plt\n",
    "acc = history.history['accuracy']\n",
    "val_acc = history.history['val_accuracy']\n",
    "\n",
    "loss = history.history['loss']\n",
    "val_loss = history.history['val_loss']\n",
    "\n",
    "epochs_range = range(epoch)\n",
    "\n",
    "plt.figure(figsize=(8, 8))\n",
    "plt.subplot(1, 2, 1)\n",
    "plt.plot(epochs_range, acc, label='Training Accuracy')\n",
    "plt.plot(epochs_range, val_acc, label='Validation Accuracy')\n",
    "plt.legend(loc='lower right')\n",
    "plt.title('Training and Validation Accuracy')\n",
    "\n",
    "plt.subplot(1, 2, 2)\n",
    "plt.plot(epochs_range, loss, label='Training Loss')\n",
    "plt.plot(epochs_range, val_loss, label='Validation Loss')\n",
    "plt.legend(loc='upper right')\n",
    "plt.title('Training and Validation Loss')\n",
    "plt.show()"
   ]
  },
  {
   "cell_type": "code",
   "execution_count": null,
   "metadata": {},
   "outputs": [],
   "source": []
  }
 ],
 "metadata": {
  "colab": {
   "authorship_tag": "ABX9TyP44uLA/mmQf7NrxJAZjq/V",
   "mount_file_id": "1eg2PtzHfjzAc48QYLik1bqiSLJzOIkx_",
   "name": "model1kedua.ipynb",
   "provenance": []
  },
  "kernelspec": {
   "display_name": "Python 3",
   "language": "python",
   "name": "python3"
  },
  "language_info": {
   "codemirror_mode": {
    "name": "ipython",
    "version": 3
   },
   "file_extension": ".py",
   "mimetype": "text/x-python",
   "name": "python",
   "nbconvert_exporter": "python",
   "pygments_lexer": "ipython3",
   "version": "3.7.6"
  }
 },
 "nbformat": 4,
 "nbformat_minor": 1
}
