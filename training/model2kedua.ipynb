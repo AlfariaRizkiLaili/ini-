{
 "cells": [
  {
   "cell_type": "code",
   "execution_count": 5,
   "metadata": {
    "colab": {
     "base_uri": "https://localhost:8080/"
    },
    "executionInfo": {
     "elapsed": 350,
     "status": "ok",
     "timestamp": 1627297585230,
     "user": {
      "displayName": "Alfaria Rizki",
      "photoUrl": "https://lh3.googleusercontent.com/a-/AOh14GjIFHXy3qPRPg5rcoOfbF4n2EhKJayBWLGKHU0MUA=s64",
      "userId": "04889227514116262933"
     },
     "user_tz": -420
    },
    "id": "pRZq9_Gje_9R",
    "outputId": "8a032194-5d68-4aaf-ca81-b7182f5fcaaa"
   },
   "outputs": [
    {
     "name": "stdout",
     "output_type": "stream",
     "text": [
      "WARNING:tensorflow:Please add `keras.layers.InputLayer` instead of `keras.Input` to Sequential model. `keras.Input` is intended to be used by Functional model.\n",
      "Model: \"sequential_1\"\n",
      "_________________________________________________________________\n",
      "Layer (type)                 Output Shape              Param #   \n",
      "=================================================================\n",
      "conv2d_4 (Conv2D)            (None, 222, 222, 16)      448       \n",
      "_________________________________________________________________\n",
      "max_pooling2d_4 (MaxPooling2 (None, 111, 111, 16)      0         \n",
      "_________________________________________________________________\n",
      "conv2d_5 (Conv2D)            (None, 109, 109, 32)      4640      \n",
      "_________________________________________________________________\n",
      "max_pooling2d_5 (MaxPooling2 (None, 54, 54, 32)        0         \n",
      "_________________________________________________________________\n",
      "conv2d_6 (Conv2D)            (None, 52, 52, 64)        18496     \n",
      "_________________________________________________________________\n",
      "max_pooling2d_6 (MaxPooling2 (None, 26, 26, 64)        0         \n",
      "_________________________________________________________________\n",
      "conv2d_7 (Conv2D)            (None, 24, 24, 128)       73856     \n",
      "_________________________________________________________________\n",
      "max_pooling2d_7 (MaxPooling2 (None, 12, 12, 128)       0         \n",
      "_________________________________________________________________\n",
      "flatten_1 (Flatten)          (None, 18432)             0         \n",
      "_________________________________________________________________\n",
      "dropout_1 (Dropout)          (None, 18432)             0         \n",
      "_________________________________________________________________\n",
      "dense_1 (Dense)              (None, 7)                 129031    \n",
      "=================================================================\n",
      "Total params: 226,471\n",
      "Trainable params: 226,471\n",
      "Non-trainable params: 0\n",
      "_________________________________________________________________\n"
     ]
    }
   ],
   "source": [
    "#import library\n",
    "from tensorflow import keras\n",
    "import tensorflow as tf \n",
    "#style penulisan keras : https://keras.io/examples/vision/mnist_convnet/\n",
    "width=224\n",
    "height=224\n",
    "depth=3\n",
    "inputShape = (height, width, depth)\n",
    "model = keras.Sequential(\n",
    "    [\n",
    "        keras.Input(shape=inputShape),\n",
    "        tf.keras.layers.Conv2D(16, kernel_size=(3, 3), activation=\"relu\"),\n",
    "        tf.keras.layers.MaxPooling2D(pool_size=(2, 2)),\n",
    "        tf.keras.layers.Conv2D(32, kernel_size=(3, 3), activation=\"relu\"),\n",
    "        tf.keras.layers.MaxPooling2D(pool_size=(2, 2)),\n",
    "        tf.keras.layers.Conv2D(64, kernel_size=(3, 3), activation=\"relu\"),\n",
    "        tf.keras.layers.MaxPooling2D(pool_size=(2, 2)),\n",
    "        tf.keras.layers.Conv2D(128, kernel_size=(3, 3), activation=\"relu\"),\n",
    "        tf.keras.layers.MaxPooling2D(pool_size=(2, 2)),\n",
    "        tf.keras.layers.Flatten(),\n",
    "        tf.keras.layers.Dropout(0.5),\n",
    "        tf.keras.layers.Dense(7, activation=\"softmax\"),\n",
    "    ]\n",
    ")\n",
    "\n",
    "model.summary()\n",
    "\n",
    "model.compile(loss=\"categorical_crossentropy\", optimizer=\"adam\", metrics=[\"accuracy\"])"
   ]
  },
  {
   "cell_type": "code",
   "execution_count": 6,
   "metadata": {
    "colab": {
     "base_uri": "https://localhost:8080/"
    },
    "executionInfo": {
     "elapsed": 11260,
     "status": "ok",
     "timestamp": 1627297604265,
     "user": {
      "displayName": "Alfaria Rizki",
      "photoUrl": "https://lh3.googleusercontent.com/a-/AOh14GjIFHXy3qPRPg5rcoOfbF4n2EhKJayBWLGKHU0MUA=s64",
      "userId": "04889227514116262933"
     },
     "user_tz": -420
    },
    "id": "TunjNoFgfVMr",
    "outputId": "46697899-71cb-4a9f-cddc-8e7646d5d010"
   },
   "outputs": [
    {
     "name": "stdout",
     "output_type": "stream",
     "text": [
      "Found 5600 images belonging to 7 classes.\n",
      "Found 1400 images belonging to 7 classes.\n"
     ]
    }
   ],
   "source": [
    "from keras.preprocessing.image import ImageDataGenerator\n",
    "#prameter augmentasi : https://blog.keras.io/building-powerful-image-classification-models-using-very-little-data.html\n",
    "train_datagen = ImageDataGenerator(rescale = 1./255, shear_range = 0.2, zoom_range = 0.2, horizontal_flip = True)\n",
    "test_datagen = ImageDataGenerator(rescale = 1./255, shear_range = 0.2, zoom_range = 0.2, horizontal_flip = True)\n",
    "                                   \n",
    "training_set = train_datagen.flow_from_directory('C:/Users/Alfaria/SKRIPSI/hasil_augmen/training/BurungPemakanPadi',target_size = (224, 224),class_mode=\"categorical\")\n",
    "test_set = test_datagen.flow_from_directory('C:/Users/Alfaria/SKRIPSI/hasil_augmen/testing/BurungPemakanPadi',target_size = (224, 224),class_mode=\"categorical\")"
   ]
  },
  {
   "cell_type": "code",
   "execution_count": 7,
   "metadata": {
    "colab": {
     "base_uri": "https://localhost:8080/"
    },
    "executionInfo": {
     "elapsed": 337,
     "status": "ok",
     "timestamp": 1627297607878,
     "user": {
      "displayName": "Alfaria Rizki",
      "photoUrl": "https://lh3.googleusercontent.com/a-/AOh14GjIFHXy3qPRPg5rcoOfbF4n2EhKJayBWLGKHU0MUA=s64",
      "userId": "04889227514116262933"
     },
     "user_tz": -420
    },
    "id": "5Uxg4a0YfruQ",
    "outputId": "c106508a-85a1-4125-ee11-9355c872a74a"
   },
   "outputs": [
    {
     "name": "stdout",
     "output_type": "stream",
     "text": [
      "{0: 'BondolCoklat', 1: 'BondolHaji', 2: 'BondolJawa', 3: 'BondolPeking', 4: 'GelatikJawa', 5: 'Gereja', 6: 'Manyar'}\n"
     ]
    }
   ],
   "source": [
    "#cek nama class\n",
    "def switch_dict_key_values(this_dict):\n",
    "    return dict((v,k)for k,v in this_dict.items())\n",
    "\n",
    "training_set_names=switch_dict_key_values(training_set.class_indices)\n",
    "print(training_set_names)"
   ]
  },
  {
   "cell_type": "code",
   "execution_count": 8,
   "metadata": {
    "colab": {
     "base_uri": "https://localhost:8080/"
    },
    "executionInfo": {
     "elapsed": 5365791,
     "status": "ok",
     "timestamp": 1627302986872,
     "user": {
      "displayName": "Alfaria Rizki",
      "photoUrl": "https://lh3.googleusercontent.com/a-/AOh14GjIFHXy3qPRPg5rcoOfbF4n2EhKJayBWLGKHU0MUA=s64",
      "userId": "04889227514116262933"
     },
     "user_tz": -420
    },
    "id": "Ihjc9xXgfvLd",
    "outputId": "7ced940c-b2b5-4e43-8b73-bb6f3ef619f0"
   },
   "outputs": [
    {
     "name": "stderr",
     "output_type": "stream",
     "text": [
      "C:\\Users\\Alfaria\\anaconda3\\lib\\site-packages\\tensorflow\\python\\keras\\engine\\training.py:1940: UserWarning: `Model.fit_generator` is deprecated and will be removed in a future version. Please use `Model.fit`, which supports generators.\n",
      "  warnings.warn('`Model.fit_generator` is deprecated and '\n"
     ]
    },
    {
     "name": "stdout",
     "output_type": "stream",
     "text": [
      "Epoch 1/50\n",
      "175/175 [==============================] - 713s 4s/step - loss: 1.2565 - accuracy: 0.5200 - val_loss: 0.4465 - val_accuracy: 0.8564\n",
      "Epoch 2/50\n",
      "175/175 [==============================] - 685s 4s/step - loss: 0.3305 - accuracy: 0.8909 - val_loss: 0.2360 - val_accuracy: 0.9257\n",
      "Epoch 3/50\n",
      "175/175 [==============================] - 722s 4s/step - loss: 0.1423 - accuracy: 0.9570 - val_loss: 0.1052 - val_accuracy: 0.9636\n",
      "Epoch 4/50\n",
      "175/175 [==============================] - 709s 4s/step - loss: 0.0821 - accuracy: 0.9734 - val_loss: 0.0502 - val_accuracy: 0.9850\n",
      "Epoch 5/50\n",
      "175/175 [==============================] - 675s 4s/step - loss: 0.0829 - accuracy: 0.9752 - val_loss: 0.0425 - val_accuracy: 0.9879\n",
      "Epoch 6/50\n",
      "175/175 [==============================] - 673s 4s/step - loss: 0.0792 - accuracy: 0.9759 - val_loss: 0.0511 - val_accuracy: 0.9829\n",
      "Epoch 7/50\n",
      "175/175 [==============================] - 669s 4s/step - loss: 0.0359 - accuracy: 0.9893 - val_loss: 0.0369 - val_accuracy: 0.9864\n",
      "Epoch 8/50\n",
      "175/175 [==============================] - 668s 4s/step - loss: 0.0248 - accuracy: 0.9930 - val_loss: 0.0180 - val_accuracy: 0.9950\n",
      "Epoch 9/50\n",
      "175/175 [==============================] - 669s 4s/step - loss: 0.0462 - accuracy: 0.9854 - val_loss: 0.0140 - val_accuracy: 0.9964\n",
      "Epoch 10/50\n",
      "175/175 [==============================] - 668s 4s/step - loss: 0.0392 - accuracy: 0.9887 - val_loss: 0.0205 - val_accuracy: 0.9936\n",
      "Epoch 11/50\n",
      "175/175 [==============================] - 676s 4s/step - loss: 0.0264 - accuracy: 0.9905 - val_loss: 0.0579 - val_accuracy: 0.9764\n",
      "Epoch 12/50\n",
      "175/175 [==============================] - 666s 4s/step - loss: 0.0170 - accuracy: 0.9957 - val_loss: 0.0097 - val_accuracy: 0.9979\n",
      "Epoch 13/50\n",
      "175/175 [==============================] - 668s 4s/step - loss: 0.0168 - accuracy: 0.9962 - val_loss: 0.0860 - val_accuracy: 0.9686\n",
      "Epoch 14/50\n",
      "175/175 [==============================] - 673s 4s/step - loss: 0.0251 - accuracy: 0.9909 - val_loss: 0.0158 - val_accuracy: 0.9957\n",
      "Epoch 15/50\n",
      "175/175 [==============================] - 672s 4s/step - loss: 0.0297 - accuracy: 0.9904 - val_loss: 0.0063 - val_accuracy: 0.9986\n",
      "Epoch 16/50\n",
      "175/175 [==============================] - 667s 4s/step - loss: 0.0318 - accuracy: 0.9898 - val_loss: 0.0347 - val_accuracy: 0.9914\n",
      "Epoch 17/50\n",
      "175/175 [==============================] - 679s 4s/step - loss: 0.0328 - accuracy: 0.9898 - val_loss: 0.0116 - val_accuracy: 0.9964\n",
      "Epoch 18/50\n",
      "175/175 [==============================] - 688s 4s/step - loss: 0.0175 - accuracy: 0.9957 - val_loss: 0.0282 - val_accuracy: 0.9950\n",
      "Epoch 19/50\n",
      "175/175 [==============================] - 680s 4s/step - loss: 0.0402 - accuracy: 0.9895 - val_loss: 0.0327 - val_accuracy: 0.9879\n",
      "Epoch 20/50\n",
      "175/175 [==============================] - 682s 4s/step - loss: 0.0088 - accuracy: 0.9973 - val_loss: 0.0150 - val_accuracy: 0.9964\n",
      "Epoch 21/50\n",
      "175/175 [==============================] - 699s 4s/step - loss: 0.0200 - accuracy: 0.9936 - val_loss: 0.0587 - val_accuracy: 0.9843\n",
      "Epoch 22/50\n",
      "175/175 [==============================] - 677s 4s/step - loss: 0.0289 - accuracy: 0.9905 - val_loss: 0.0488 - val_accuracy: 0.9807\n",
      "Epoch 23/50\n",
      "175/175 [==============================] - 664s 4s/step - loss: 0.0178 - accuracy: 0.9945 - val_loss: 0.0044 - val_accuracy: 0.9986\n",
      "Epoch 24/50\n",
      "175/175 [==============================] - 670s 4s/step - loss: 0.0121 - accuracy: 0.9962 - val_loss: 0.0083 - val_accuracy: 0.9971\n",
      "Epoch 25/50\n",
      "175/175 [==============================] - 667s 4s/step - loss: 0.0313 - accuracy: 0.9914 - val_loss: 0.0641 - val_accuracy: 0.9829\n",
      "Epoch 26/50\n",
      "175/175 [==============================] - 668s 4s/step - loss: 0.0259 - accuracy: 0.9925 - val_loss: 0.0047 - val_accuracy: 0.9993\n",
      "Epoch 27/50\n",
      "175/175 [==============================] - 672s 4s/step - loss: 0.0171 - accuracy: 0.9957 - val_loss: 0.0077 - val_accuracy: 0.9979\n",
      "Epoch 28/50\n",
      "175/175 [==============================] - 670s 4s/step - loss: 0.0152 - accuracy: 0.9955 - val_loss: 0.0060 - val_accuracy: 0.9964\n",
      "Epoch 29/50\n",
      "175/175 [==============================] - 671s 4s/step - loss: 0.0156 - accuracy: 0.9957 - val_loss: 0.0132 - val_accuracy: 0.9964\n",
      "Epoch 30/50\n",
      "175/175 [==============================] - 672s 4s/step - loss: 0.0326 - accuracy: 0.9914 - val_loss: 0.0065 - val_accuracy: 0.9986\n",
      "Epoch 31/50\n",
      "175/175 [==============================] - 678s 4s/step - loss: 0.0087 - accuracy: 0.9977 - val_loss: 0.0206 - val_accuracy: 0.9957\n",
      "Epoch 32/50\n",
      "175/175 [==============================] - 670s 4s/step - loss: 0.0060 - accuracy: 0.9980 - val_loss: 0.0087 - val_accuracy: 0.9979\n",
      "Epoch 33/50\n",
      "175/175 [==============================] - 674s 4s/step - loss: 0.0180 - accuracy: 0.9934 - val_loss: 0.0090 - val_accuracy: 0.9979\n",
      "Epoch 34/50\n",
      "175/175 [==============================] - 669s 4s/step - loss: 0.0170 - accuracy: 0.9964 - val_loss: 0.0300 - val_accuracy: 0.9943\n",
      "Epoch 35/50\n",
      "175/175 [==============================] - 794s 5s/step - loss: 0.0231 - accuracy: 0.9939 - val_loss: 0.0212 - val_accuracy: 0.9964\n",
      "Epoch 36/50\n",
      "175/175 [==============================] - 1191s 7s/step - loss: 0.0144 - accuracy: 0.9955 - val_loss: 0.0228 - val_accuracy: 0.9936\n",
      "Epoch 37/50\n",
      "175/175 [==============================] - 684s 4s/step - loss: 0.0153 - accuracy: 0.9945 - val_loss: 0.0335 - val_accuracy: 0.9936\n",
      "Epoch 38/50\n",
      "175/175 [==============================] - 675s 4s/step - loss: 0.0360 - accuracy: 0.9902 - val_loss: 0.0285 - val_accuracy: 0.9943\n",
      "Epoch 39/50\n",
      "175/175 [==============================] - 666s 4s/step - loss: 0.0146 - accuracy: 0.9966 - val_loss: 0.0020 - val_accuracy: 0.9993\n",
      "Epoch 40/50\n",
      "175/175 [==============================] - 669s 4s/step - loss: 0.0088 - accuracy: 0.9968 - val_loss: 0.0030 - val_accuracy: 0.9986\n",
      "Epoch 41/50\n",
      "175/175 [==============================] - 669s 4s/step - loss: 7.0772e-04 - accuracy: 0.9996 - val_loss: 0.0075 - val_accuracy: 0.9986\n",
      "Epoch 42/50\n",
      "175/175 [==============================] - 666s 4s/step - loss: 0.0043 - accuracy: 0.9986 - val_loss: 0.0066 - val_accuracy: 0.9986\n",
      "Epoch 43/50\n",
      "175/175 [==============================] - 665s 4s/step - loss: 0.0010 - accuracy: 0.9996 - val_loss: 0.0040 - val_accuracy: 0.9993\n",
      "Epoch 44/50\n",
      "175/175 [==============================] - 1176s 7s/step - loss: 0.0068 - accuracy: 0.9984 - val_loss: 0.0187 - val_accuracy: 0.9950\n",
      "Epoch 45/50\n",
      "175/175 [==============================] - 1205s 7s/step - loss: 0.0287 - accuracy: 0.9927 - val_loss: 0.0068 - val_accuracy: 0.9979\n",
      "Epoch 46/50\n",
      "175/175 [==============================] - 1203s 7s/step - loss: 0.0221 - accuracy: 0.9943 - val_loss: 0.0420 - val_accuracy: 0.9871\n",
      "Epoch 47/50\n",
      "175/175 [==============================] - 1206s 7s/step - loss: 0.0154 - accuracy: 0.9946 - val_loss: 0.0177 - val_accuracy: 0.9971\n",
      "Epoch 48/50\n",
      "175/175 [==============================] - 1201s 7s/step - loss: 0.0291 - accuracy: 0.9946 - val_loss: 0.0086 - val_accuracy: 0.9993\n",
      "Epoch 49/50\n",
      "175/175 [==============================] - 1211s 7s/step - loss: 0.0149 - accuracy: 0.9957 - val_loss: 0.0039 - val_accuracy: 0.9993\n",
      "Epoch 50/50\n",
      "175/175 [==============================] - 1203s 7s/step - loss: 0.0201 - accuracy: 0.9954 - val_loss: 0.0107 - val_accuracy: 0.9971\n"
     ]
    }
   ],
   "source": [
    "# proses fitting / training \n",
    "epoch = 50\n",
    "history = model.fit_generator(training_set,\n",
    "epochs = epoch,\n",
    "validation_data = test_set\n",
    ")"
   ]
  },
  {
   "cell_type": "code",
   "execution_count": 9,
   "metadata": {
    "executionInfo": {
     "elapsed": 348,
     "status": "ok",
     "timestamp": 1627303009907,
     "user": {
      "displayName": "Alfaria Rizki",
      "photoUrl": "https://lh3.googleusercontent.com/a-/AOh14GjIFHXy3qPRPg5rcoOfbF4n2EhKJayBWLGKHU0MUA=s64",
      "userId": "04889227514116262933"
     },
     "user_tz": -420
    },
    "id": "MzNu3fw6fzRv"
   },
   "outputs": [],
   "source": [
    "#menyimpan model\n",
    "model.save_weights(\"model2keedua.h5\")"
   ]
  },
  {
   "cell_type": "code",
   "execution_count": 10,
   "metadata": {
    "colab": {
     "base_uri": "https://localhost:8080/",
     "height": 498
    },
    "executionInfo": {
     "elapsed": 626,
     "status": "ok",
     "timestamp": 1627303014441,
     "user": {
      "displayName": "Alfaria Rizki",
      "photoUrl": "https://lh3.googleusercontent.com/a-/AOh14GjIFHXy3qPRPg5rcoOfbF4n2EhKJayBWLGKHU0MUA=s64",
      "userId": "04889227514116262933"
     },
     "user_tz": -420
    },
    "id": "ScYUAVTbf1YB",
    "outputId": "c8c07b03-5344-4672-8b35-b44affcb37a6"
   },
   "outputs": [
    {
     "data": {
      "image/png": "[encoded data removed]",
      "text/plain": [
       "<Figure size 576x576 with 2 Axes>"
      ]
     },
     "metadata": {
      "needs_background": "light"
     },
     "output_type": "display_data"
    }
   ],
   "source": [
    "#ploting hasil acc dan loss\n",
    "import matplotlib.pyplot as plt\n",
    "acc = history.history['accuracy']\n",
    "val_acc = history.history['val_accuracy']\n",
    "\n",
    "loss = history.history['loss']\n",
    "val_loss = history.history['val_loss']\n",
    "\n",
    "epochs_range = range(epoch)\n",
    "\n",
    "plt.figure(figsize=(8, 8))\n",
    "plt.subplot(1, 2, 1)\n",
    "plt.plot(epochs_range, acc, label='Training Accuracy')\n",
    "plt.plot(epochs_range, val_acc, label='Validation Accuracy')\n",
    "plt.legend(loc='lower right')\n",
    "plt.title('Training and Validation Accuracy')\n",
    "\n",
    "plt.subplot(1, 2, 2)\n",
    "plt.plot(epochs_range, loss, label='Training Loss')\n",
    "plt.plot(epochs_range, val_loss, label='Validation Loss')\n",
    "plt.legend(loc='upper right')\n",
    "plt.title('Training and Validation Loss')\n",
    "plt.show()"
   ]
  },
  {
   "cell_type": "code",
   "execution_count": null,
   "metadata": {},
   "outputs": [],
   "source": []
  }
 ],
 "metadata": {
  "colab": {
   "authorship_tag": "ABX9TyPc1mLZX1n7Kp0xLN2kKLPd",
   "mount_file_id": "1ElI-iA3TqsuaRgkGZnPSCFi2Qn6hsusP",
   "name": "model2kedua.ipynb",
   "provenance": []
  },
  "kernelspec": {
   "display_name": "Python 3",
   "language": "python",
   "name": "python3"
  },
  "language_info": {
   "codemirror_mode": {
    "name": "ipython",
    "version": 3
   },
   "file_extension": ".py",
   "mimetype": "text/x-python",
   "name": "python",
   "nbconvert_exporter": "python",
   "pygments_lexer": "ipython3",
   "version": "3.7.6"
  }
 },
 "nbformat": 4,
 "nbformat_minor": 1
}
