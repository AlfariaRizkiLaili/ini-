{
 "cells": [
  {
   "cell_type": "code",
   "execution_count": 5,
   "metadata": {
    "colab": {
     "base_uri": "https://localhost:8080/"
    },
    "executionInfo": {
     "elapsed": 2564,
     "status": "ok",
     "timestamp": 1627303162755,
     "user": {
      "displayName": "Alfaria Rizki",
      "photoUrl": "https://lh3.googleusercontent.com/a-/AOh14GjIFHXy3qPRPg5rcoOfbF4n2EhKJayBWLGKHU0MUA=s64",
      "userId": "04889227514116262933"
     },
     "user_tz": -420
    },
    "id": "skIn5vNu0l8d",
    "outputId": "30954977-bcc3-467b-9fa0-5584d0854abd"
   },
   "outputs": [
    {
     "name": "stdout",
     "output_type": "stream",
     "text": [
      "WARNING:tensorflow:Please add `keras.layers.InputLayer` instead of `keras.Input` to Sequential model. `keras.Input` is intended to be used by Functional model.\n",
      "Model: \"sequential_1\"\n",
      "_________________________________________________________________\n",
      "Layer (type)                 Output Shape              Param #   \n",
      "=================================================================\n",
      "conv2d_4 (Conv2D)            (None, 222, 222, 16)      448       \n",
      "_________________________________________________________________\n",
      "max_pooling2d_4 (MaxPooling2 (None, 111, 111, 16)      0         \n",
      "_________________________________________________________________\n",
      "conv2d_5 (Conv2D)            (None, 109, 109, 32)      4640      \n",
      "_________________________________________________________________\n",
      "max_pooling2d_5 (MaxPooling2 (None, 54, 54, 32)        0         \n",
      "_________________________________________________________________\n",
      "conv2d_6 (Conv2D)            (None, 52, 52, 64)        18496     \n",
      "_________________________________________________________________\n",
      "max_pooling2d_6 (MaxPooling2 (None, 26, 26, 64)        0         \n",
      "_________________________________________________________________\n",
      "conv2d_7 (Conv2D)            (None, 24, 24, 128)       73856     \n",
      "_________________________________________________________________\n",
      "max_pooling2d_7 (MaxPooling2 (None, 12, 12, 128)       0         \n",
      "_________________________________________________________________\n",
      "flatten_1 (Flatten)          (None, 18432)             0         \n",
      "_________________________________________________________________\n",
      "dropout_1 (Dropout)          (None, 18432)             0         \n",
      "_________________________________________________________________\n",
      "dense_1 (Dense)              (None, 7)                 129031    \n",
      "=================================================================\n",
      "Total params: 226,471\n",
      "Trainable params: 226,471\n",
      "Non-trainable params: 0\n",
      "_________________________________________________________________\n"
     ]
    }
   ],
   "source": [
    "#import library\n",
    "from tensorflow import keras\n",
    "import tensorflow as tf \n",
    "#style penulisan keras : https://keras.io/examples/vision/mnist_convnet/\n",
    "width=224\n",
    "height=224\n",
    "depth=3\n",
    "inputShape = (height, width, depth)\n",
    "model = keras.Sequential(\n",
    "    [\n",
    "        keras.Input(shape=inputShape),\n",
    "        tf.keras.layers.Conv2D(16, kernel_size=(3, 3), activation=\"relu\"),\n",
    "        tf.keras.layers.MaxPooling2D(pool_size=(2, 2)),\n",
    "        tf.keras.layers.Conv2D(32, kernel_size=(3, 3), activation=\"relu\"),\n",
    "        tf.keras.layers.MaxPooling2D(pool_size=(2, 2)),\n",
    "        tf.keras.layers.Conv2D(64, kernel_size=(3, 3), activation=\"relu\"),\n",
    "        tf.keras.layers.MaxPooling2D(pool_size=(2, 2)),\n",
    "        tf.keras.layers.Conv2D(128, kernel_size=(3, 3), activation=\"relu\"),\n",
    "        tf.keras.layers.MaxPooling2D(pool_size=(2, 2)),\n",
    "        tf.keras.layers.Flatten(),\n",
    "        tf.keras.layers.Dropout(0.5),\n",
    "        tf.keras.layers.Dense(7, activation=\"softmax\"),\n",
    "    ]\n",
    ")\n",
    "\n",
    "model.summary()\n",
    "\n",
    "model.compile(loss=\"categorical_crossentropy\", optimizer=\"adam\", metrics=[\"accuracy\"])"
   ]
  },
  {
   "cell_type": "code",
   "execution_count": 6,
   "metadata": {
    "colab": {
     "base_uri": "https://localhost:8080/"
    },
    "executionInfo": {
     "elapsed": 12828,
     "status": "ok",
     "timestamp": 1627303259610,
     "user": {
      "displayName": "Alfaria Rizki",
      "photoUrl": "https://lh3.googleusercontent.com/a-/AOh14GjIFHXy3qPRPg5rcoOfbF4n2EhKJayBWLGKHU0MUA=s64",
      "userId": "04889227514116262933"
     },
     "user_tz": -420
    },
    "id": "K2lOPzRP1FJi",
    "outputId": "50ba84d3-7ce7-4b42-b2a3-1aa6725d9fc1"
   },
   "outputs": [
    {
     "name": "stdout",
     "output_type": "stream",
     "text": [
      "Found 5600 images belonging to 7 classes.\n",
      "Found 1400 images belonging to 7 classes.\n"
     ]
    }
   ],
   "source": [
    "from keras.preprocessing.image import ImageDataGenerator\n",
    "#prameter augmentasi : https://blog.keras.io/building-powerful-image-classification-models-using-very-little-data.html\n",
    "train_datagen = ImageDataGenerator(rescale = 1./255, shear_range = 0.2, zoom_range = 0.2, horizontal_flip = True)\n",
    "test_datagen = ImageDataGenerator(rescale = 1./255, shear_range = 0.2, zoom_range = 0.2, horizontal_flip = True)\n",
    "                                   \n",
    "training_set = train_datagen.flow_from_directory('C:/Users/Alfaria/SKRIPSI/hasil_augmen/training/BukanBurungPemakanPadi',target_size = (224, 224),class_mode=\"categorical\")\n",
    "test_set = test_datagen.flow_from_directory('C:/Users/Alfaria/SKRIPSI/hasil_augmen/testing/BukanBurungPemakanPadi',target_size = (224, 224),class_mode=\"categorical\")"
   ]
  },
  {
   "cell_type": "code",
   "execution_count": 7,
   "metadata": {
    "colab": {
     "base_uri": "https://localhost:8080/"
    },
    "executionInfo": {
     "elapsed": 469,
     "status": "ok",
     "timestamp": 1627303276406,
     "user": {
      "displayName": "Alfaria Rizki",
      "photoUrl": "https://lh3.googleusercontent.com/a-/AOh14GjIFHXy3qPRPg5rcoOfbF4n2EhKJayBWLGKHU0MUA=s64",
      "userId": "04889227514116262933"
     },
     "user_tz": -420
    },
    "id": "yyIHjq-D1TSP",
    "outputId": "bc5bd451-fcf0-4618-af9b-08fb85a26b86"
   },
   "outputs": [
    {
     "name": "stdout",
     "output_type": "stream",
     "text": [
      "{0: 'CekakakJawa', 1: 'CiblekSawah', 2: 'Gagak', 3: 'Jalak', 4: 'KuntulKerbau', 5: 'Kutilang', 6: 'Tekukur'}\n"
     ]
    }
   ],
   "source": [
    "#cek nama class\n",
    "def switch_dict_key_values(this_dict):\n",
    "    return dict((v,k)for k,v in this_dict.items())\n",
    "\n",
    "training_set_names=switch_dict_key_values(training_set.class_indices)\n",
    "print(training_set_names)"
   ]
  },
  {
   "cell_type": "code",
   "execution_count": 8,
   "metadata": {
    "colab": {
     "base_uri": "https://localhost:8080/"
    },
    "executionInfo": {
     "elapsed": 7254653,
     "status": "ok",
     "timestamp": 1627310562022,
     "user": {
      "displayName": "Alfaria Rizki",
      "photoUrl": "https://lh3.googleusercontent.com/a-/AOh14GjIFHXy3qPRPg5rcoOfbF4n2EhKJayBWLGKHU0MUA=s64",
      "userId": "04889227514116262933"
     },
     "user_tz": -420
    },
    "id": "oI3ycTv91Xbm",
    "outputId": "298c1fe4-f92e-41f6-bd8c-692741c766b6"
   },
   "outputs": [
    {
     "name": "stderr",
     "output_type": "stream",
     "text": [
      "C:\\Users\\Alfaria\\anaconda3\\lib\\site-packages\\tensorflow\\python\\keras\\engine\\training.py:1940: UserWarning: `Model.fit_generator` is deprecated and will be removed in a future version. Please use `Model.fit`, which supports generators.\n",
      "  warnings.warn('`Model.fit_generator` is deprecated and '\n"
     ]
    },
    {
     "name": "stdout",
     "output_type": "stream",
     "text": [
      "Epoch 1/50\n",
      "175/175 [==============================] - 1205s 7s/step - loss: 1.1796 - accuracy: 0.5320 - val_loss: 0.6690 - val_accuracy: 0.7564\n",
      "Epoch 2/50\n",
      "175/175 [==============================] - 1202s 7s/step - loss: 0.4646 - accuracy: 0.8289 - val_loss: 0.2990 - val_accuracy: 0.8979\n",
      "Epoch 3/50\n",
      "175/175 [==============================] - 1198s 7s/step - loss: 0.2593 - accuracy: 0.9116 - val_loss: 0.1530 - val_accuracy: 0.9543\n",
      "Epoch 4/50\n",
      "175/175 [==============================] - 1209s 7s/step - loss: 0.1749 - accuracy: 0.9418 - val_loss: 0.1265 - val_accuracy: 0.9636\n",
      "Epoch 5/50\n",
      "175/175 [==============================] - 1197s 7s/step - loss: 0.1481 - accuracy: 0.9521 - val_loss: 0.0941 - val_accuracy: 0.9714\n",
      "Epoch 6/50\n",
      "175/175 [==============================] - 1199s 7s/step - loss: 0.0999 - accuracy: 0.9677 - val_loss: 0.0480 - val_accuracy: 0.9857\n",
      "Epoch 7/50\n",
      "175/175 [==============================] - 1155s 7s/step - loss: 0.0754 - accuracy: 0.9745 - val_loss: 0.0527 - val_accuracy: 0.9821\n",
      "Epoch 8/50\n",
      "175/175 [==============================] - 664s 4s/step - loss: 0.0752 - accuracy: 0.9775 - val_loss: 0.0403 - val_accuracy: 0.9850\n",
      "Epoch 9/50\n",
      "175/175 [==============================] - 665s 4s/step - loss: 0.0522 - accuracy: 0.9841 - val_loss: 0.0404 - val_accuracy: 0.9836\n",
      "Epoch 10/50\n",
      "175/175 [==============================] - 666s 4s/step - loss: 0.0557 - accuracy: 0.9816 - val_loss: 0.0305 - val_accuracy: 0.9907\n",
      "Epoch 11/50\n",
      "175/175 [==============================] - 672s 4s/step - loss: 0.0842 - accuracy: 0.9732 - val_loss: 0.0306 - val_accuracy: 0.9900\n",
      "Epoch 12/50\n",
      "175/175 [==============================] - 659s 4s/step - loss: 0.0392 - accuracy: 0.9891 - val_loss: 0.2980 - val_accuracy: 0.9686\n",
      "Epoch 13/50\n",
      "175/175 [==============================] - 664s 4s/step - loss: 0.0479 - accuracy: 0.9875 - val_loss: 0.0241 - val_accuracy: 0.9929\n",
      "Epoch 14/50\n",
      "175/175 [==============================] - 664s 4s/step - loss: 0.0335 - accuracy: 0.9879 - val_loss: 0.0298 - val_accuracy: 0.9929\n",
      "Epoch 15/50\n",
      "175/175 [==============================] - 664s 4s/step - loss: 0.0452 - accuracy: 0.9841 - val_loss: 0.0199 - val_accuracy: 0.9936\n",
      "Epoch 16/50\n",
      "175/175 [==============================] - 656s 4s/step - loss: 0.0355 - accuracy: 0.9873 - val_loss: 0.0252 - val_accuracy: 0.9914\n",
      "Epoch 17/50\n",
      "175/175 [==============================] - 661s 4s/step - loss: 0.0317 - accuracy: 0.9907 - val_loss: 0.0163 - val_accuracy: 0.9943\n",
      "Epoch 18/50\n",
      "175/175 [==============================] - 662s 4s/step - loss: 0.0359 - accuracy: 0.9893 - val_loss: 0.0098 - val_accuracy: 0.9964\n",
      "Epoch 19/50\n",
      "175/175 [==============================] - 660s 4s/step - loss: 0.0340 - accuracy: 0.9907 - val_loss: 0.0280 - val_accuracy: 0.9921\n",
      "Epoch 20/50\n",
      "175/175 [==============================] - 665s 4s/step - loss: 0.0492 - accuracy: 0.9839 - val_loss: 0.0163 - val_accuracy: 0.9929\n",
      "Epoch 21/50\n",
      "175/175 [==============================] - 660s 4s/step - loss: 0.0459 - accuracy: 0.9859 - val_loss: 0.0205 - val_accuracy: 0.9957\n",
      "Epoch 22/50\n",
      "175/175 [==============================] - 653s 4s/step - loss: 0.0360 - accuracy: 0.9893 - val_loss: 0.0089 - val_accuracy: 0.9957\n",
      "Epoch 23/50\n",
      "175/175 [==============================] - 657s 4s/step - loss: 0.0223 - accuracy: 0.9932 - val_loss: 0.0063 - val_accuracy: 0.9986\n",
      "Epoch 24/50\n",
      "175/175 [==============================] - 656s 4s/step - loss: 0.0136 - accuracy: 0.9961 - val_loss: 0.0140 - val_accuracy: 0.9936\n",
      "Epoch 25/50\n",
      "175/175 [==============================] - 661s 4s/step - loss: 0.0287 - accuracy: 0.9907 - val_loss: 0.0219 - val_accuracy: 0.9936\n",
      "Epoch 26/50\n",
      "175/175 [==============================] - 675s 4s/step - loss: 0.0322 - accuracy: 0.9907 - val_loss: 0.0291 - val_accuracy: 0.9929\n",
      "Epoch 27/50\n",
      "175/175 [==============================] - 669s 4s/step - loss: 0.0360 - accuracy: 0.9907 - val_loss: 0.0089 - val_accuracy: 0.9979\n",
      "Epoch 28/50\n",
      "175/175 [==============================] - 660s 4s/step - loss: 0.0368 - accuracy: 0.9904 - val_loss: 0.0022 - val_accuracy: 1.0000\n",
      "Epoch 29/50\n",
      "175/175 [==============================] - 652s 4s/step - loss: 0.0134 - accuracy: 0.9961 - val_loss: 0.0065 - val_accuracy: 0.9971\n",
      "Epoch 30/50\n",
      "175/175 [==============================] - 667s 4s/step - loss: 0.0231 - accuracy: 0.9941 - val_loss: 0.0056 - val_accuracy: 0.9986\n",
      "Epoch 31/50\n",
      "175/175 [==============================] - 785s 4s/step - loss: 0.0114 - accuracy: 0.9962 - val_loss: 0.0155 - val_accuracy: 0.9957\n",
      "Epoch 32/50\n",
      "175/175 [==============================] - 703s 4s/step - loss: 0.0328 - accuracy: 0.9896 - val_loss: 0.0159 - val_accuracy: 0.9964\n",
      "Epoch 33/50\n",
      "175/175 [==============================] - 685s 4s/step - loss: 0.0258 - accuracy: 0.9925 - val_loss: 0.0184 - val_accuracy: 0.9936\n",
      "Epoch 34/50\n",
      "175/175 [==============================] - 682s 4s/step - loss: 0.0210 - accuracy: 0.9932 - val_loss: 0.0053 - val_accuracy: 0.9986\n",
      "Epoch 35/50\n",
      "175/175 [==============================] - 717s 4s/step - loss: 0.0232 - accuracy: 0.9921 - val_loss: 0.0060 - val_accuracy: 0.9986\n",
      "Epoch 36/50\n",
      "175/175 [==============================] - 697s 4s/step - loss: 0.0079 - accuracy: 0.9977 - val_loss: 4.8038e-04 - val_accuracy: 1.0000\n",
      "Epoch 37/50\n",
      "175/175 [==============================] - 687s 4s/step - loss: 0.0137 - accuracy: 0.9961 - val_loss: 4.6255e-04 - val_accuracy: 1.0000\n",
      "Epoch 38/50\n",
      "175/175 [==============================] - 659s 4s/step - loss: 0.0131 - accuracy: 0.9955 - val_loss: 0.0120 - val_accuracy: 0.9950\n",
      "Epoch 39/50\n",
      "175/175 [==============================] - 678s 4s/step - loss: 0.0201 - accuracy: 0.9934 - val_loss: 0.0131 - val_accuracy: 0.9964\n",
      "Epoch 40/50\n",
      "175/175 [==============================] - 671s 4s/step - loss: 0.0178 - accuracy: 0.9945 - val_loss: 0.0063 - val_accuracy: 0.9971\n",
      "Epoch 41/50\n",
      "175/175 [==============================] - 660s 4s/step - loss: 0.0367 - accuracy: 0.9904 - val_loss: 0.0063 - val_accuracy: 0.9979\n",
      "Epoch 42/50\n",
      "175/175 [==============================] - 660s 4s/step - loss: 0.0219 - accuracy: 0.9936 - val_loss: 0.0051 - val_accuracy: 0.9986\n",
      "Epoch 43/50\n",
      "175/175 [==============================] - 687s 4s/step - loss: 0.0202 - accuracy: 0.9950 - val_loss: 0.0086 - val_accuracy: 0.9979\n",
      "Epoch 44/50\n",
      "175/175 [==============================] - 679s 4s/step - loss: 0.0099 - accuracy: 0.9968 - val_loss: 0.0187 - val_accuracy: 0.9950\n",
      "Epoch 45/50\n",
      "175/175 [==============================] - 667s 4s/step - loss: 0.0152 - accuracy: 0.9950 - val_loss: 0.0067 - val_accuracy: 0.9986\n",
      "Epoch 46/50\n",
      "175/175 [==============================] - 751s 4s/step - loss: 0.0096 - accuracy: 0.9962 - val_loss: 0.0044 - val_accuracy: 0.9986\n",
      "Epoch 47/50\n",
      "175/175 [==============================] - 697s 4s/step - loss: 0.0209 - accuracy: 0.9939 - val_loss: 0.0061 - val_accuracy: 0.9979\n",
      "Epoch 48/50\n",
      "175/175 [==============================] - 682s 4s/step - loss: 0.0571 - accuracy: 0.9875 - val_loss: 0.0018 - val_accuracy: 0.9993\n",
      "Epoch 49/50\n",
      "175/175 [==============================] - 742s 4s/step - loss: 0.0064 - accuracy: 0.9989 - val_loss: 0.0030 - val_accuracy: 1.0000\n",
      "Epoch 50/50\n",
      "175/175 [==============================] - 740s 4s/step - loss: 0.0173 - accuracy: 0.9957 - val_loss: 0.0057 - val_accuracy: 0.9979\n"
     ]
    }
   ],
   "source": [
    "# proses fitting \n",
    "epoch = 50\n",
    "history = model.fit_generator(training_set,\n",
    "epochs = epoch,\n",
    "validation_data = test_set\n",
    ") "
   ]
  },
  {
   "cell_type": "code",
   "execution_count": 9,
   "metadata": {
    "executionInfo": {
     "elapsed": 495,
     "status": "ok",
     "timestamp": 1627310686012,
     "user": {
      "displayName": "Alfaria Rizki",
      "photoUrl": "https://lh3.googleusercontent.com/a-/AOh14GjIFHXy3qPRPg5rcoOfbF4n2EhKJayBWLGKHU0MUA=s64",
      "userId": "04889227514116262933"
     },
     "user_tz": -420
    },
    "id": "Li053ccm14SD"
   },
   "outputs": [],
   "source": [
    "model.save_weights(\"model3kedua.h5\")"
   ]
  },
  {
   "cell_type": "code",
   "execution_count": 10,
   "metadata": {
    "colab": {
     "base_uri": "https://localhost:8080/"
    },
    "executionInfo": {
     "elapsed": 1085,
     "status": "ok",
     "timestamp": 1627310695798,
     "user": {
      "displayName": "Alfaria Rizki",
      "photoUrl": "https://lh3.googleusercontent.com/a-/AOh14GjIFHXy3qPRPg5rcoOfbF4n2EhKJayBWLGKHU0MUA=s64",
      "userId": "04889227514116262933"
     },
     "user_tz": -420
    },
    "id": "RZCbAJj-18nH",
    "outputId": "93af3262-2235-4e57-f013-cda01fbdbe52"
   },
   "outputs": [
    {
     "data": {
      "image/png": "[encoded data removed]",
      "text/plain": [
       "<Figure size 576x576 with 2 Axes>"
      ]
     },
     "metadata": {
      "needs_background": "light"
     },
     "output_type": "display_data"
    }
   ],
   "source": [
    "#ploting hasil acc dan loss\n",
    "import matplotlib.pyplot as plt\n",
    "acc = history.history['accuracy']\n",
    "val_acc = history.history['val_accuracy']\n",
    "\n",
    "loss = history.history['loss']\n",
    "val_loss = history.history['val_loss']\n",
    "\n",
    "epochs_range = range(epoch)\n",
    "\n",
    "plt.figure(figsize=(8, 8))\n",
    "plt.subplot(1, 2, 1)\n",
    "plt.plot(epochs_range, acc, label='Training Accuracy')\n",
    "plt.plot(epochs_range, val_acc, label='Validation Accuracy')\n",
    "plt.legend(loc='lower right')\n",
    "plt.title('Training and Validation Accuracy')\n",
    "\n",
    "plt.subplot(1, 2, 2)\n",
    "plt.plot(epochs_range, loss, label='Training Loss')\n",
    "plt.plot(epochs_range, val_loss, label='Validation Loss')\n",
    "plt.legend(loc='upper right')\n",
    "plt.title('Training and Validation Loss')\n",
    "plt.show()"
   ]
  },
  {
   "cell_type": "code",
   "execution_count": null,
   "metadata": {},
   "outputs": [],
   "source": []
  }
 ],
 "metadata": {
  "colab": {
   "authorship_tag": "ABX9TyMxUWri5zGTfxcBhNH1cLgw",
   "mount_file_id": "1vx5zHCjZ_Nu4UMdibdxBuah_Yne4yDqa",
   "name": "model3kedua.ipynb",
   "provenance": []
  },
  "kernelspec": {
   "display_name": "Python 3",
   "language": "python",
   "name": "python3"
  },
  "language_info": {
   "codemirror_mode": {
    "name": "ipython",
    "version": 3
   },
   "file_extension": ".py",
   "mimetype": "text/x-python",
   "name": "python",
   "nbconvert_exporter": "python",
   "pygments_lexer": "ipython3",
   "version": "3.7.6"
  }
 },
 "nbformat": 4,
 "nbformat_minor": 1
}
